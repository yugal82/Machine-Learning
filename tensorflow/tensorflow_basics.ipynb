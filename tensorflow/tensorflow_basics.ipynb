{
  "cells": [
    {
      "cell_type": "code",
      "execution_count": 4,
      "metadata": {
        "colab": {
          "base_uri": "https://localhost:8080/"
        },
        "id": "CFieqC33vLvm",
        "outputId": "3183e9ef-7075-41cd-a420-2868f45dd6b7"
      },
      "outputs": [
        {
          "name": "stdout",
          "output_type": "stream",
          "text": [
            "Colab only includes TensorFlow 2.x; %tensorflow_version has no effect.\n"
          ]
        }
      ],
      "source": [
        "%tensorflow_version = 2.x\n",
        "import numpy as np\n",
        "import tensorflow as tf"
      ]
    },
    {
      "cell_type": "code",
      "execution_count": 5,
      "metadata": {
        "colab": {
          "base_uri": "https://localhost:8080/",
          "height": 35
        },
        "id": "zCr_RTgpwqkM",
        "outputId": "c844e62c-3405-4b4d-9afe-b392bc0b04f3"
      },
      "outputs": [
        {
          "data": {
            "application/vnd.google.colaboratory.intrinsic+json": {
              "type": "string"
            },
            "text/plain": [
              "'2.15.0'"
            ]
          },
          "execution_count": 5,
          "metadata": {},
          "output_type": "execute_result"
        }
      ],
      "source": [
        "tf.__version__"
      ]
    },
    {
      "cell_type": "markdown",
      "metadata": {
        "id": "MZS4LwTJw8Kd"
      },
      "source": [
        "What is a tensor?\n",
        "A tensor is a generalization of vectors and matrices to potentially higher dimensions. Internally, a TensorFlow represnets tensors as n-dimensional arrays of base datatypes.\n",
        "\n",
        "A vector can have any amount dimensions. It can be used to represent a list of values, such as the coordinates of a point in space or the components of a force. Vectors can be added, subtracted, and multiplied by scalars, and they can also be used to calculate the dot product and cross product.\n",
        "\n",
        "`import numpy as np`\n",
        "\n",
        "\n",
        "Create a vector of three numbers\n",
        "\n",
        "`vector = np.array([1, 2, 3])`\n",
        "\n",
        "Print the vector\n",
        "\n",
        "`print(vector)`\n",
        "\n",
        "Add two vectors\n",
        "\n",
        "`vector1 = np.array([1, 2, 3])`\n",
        "\n",
        "`vector2 = np.array([4, 5, 6])`\n",
        "\n",
        "`sum_vector = vector1 + vector2`\n",
        "\n",
        "`print(sum_vector)`\n",
        "\n",
        "Multiply a vector by a scalar\n",
        "\n",
        "`scalar = 2`\n",
        "\n",
        "`scaled_vector = vector * scalar`\n",
        "\n",
        "`print(scaled_vector)`\n",
        "\n",
        "\n",
        "Calculate the dot product of two vectors\n",
        "\n",
        "`dot_product = np.dot(vector1, vector2)`\n",
        "\n",
        "`print(dot_product)`\n",
        "\n",
        "Calculate the cross product of two vectors\n",
        "\n",
        "`cross_product = np.cross(vector1, vector2)`\n",
        "\n",
        "`print(cross_product)`"
      ]
    },
    {
      "cell_type": "markdown",
      "metadata": {
        "id": "hl2sqEwpw63g"
      },
      "source": []
    },
    {
      "cell_type": "code",
      "execution_count": 7,
      "metadata": {
        "id": "xpGuvLiOz6ox"
      },
      "outputs": [],
      "source": [
        "string = tf.Variable(\"This is a string\", tf.string)\n",
        "number = tf.Variable(8, tf.int16)\n",
        "floating = tf.Variable(8.2, tf.float64)"
      ]
    },
    {
      "cell_type": "code",
      "execution_count": 17,
      "metadata": {
        "id": "fK8jVBsL0E8P"
      },
      "outputs": [],
      "source": [
        "rank1_tensor = tf.Variable([\"This\", \"is\", \"test\"], tf.string)\n",
        "rank2_tensor = tf.Variable([[\"This\", \"is\", \"ok\"], [\"test\", \"ok\", \"alright\"]], tf.string)"
      ]
    },
    {
      "cell_type": "code",
      "execution_count": 18,
      "metadata": {
        "colab": {
          "base_uri": "https://localhost:8080/"
        },
        "id": "2bFeo_jk09jN",
        "outputId": "05e62e7f-3290-49e4-b816-0037f8c95ce1"
      },
      "outputs": [
        {
          "data": {
            "text/plain": [
              "<tf.Variable 'Variable:0' shape=(2, 3) dtype=string, numpy=\n",
              "array([[b'This', b'is', b'ok'],\n",
              "       [b'test', b'ok', b'alright']], dtype=object)>"
            ]
          },
          "execution_count": 18,
          "metadata": {},
          "output_type": "execute_result"
        }
      ],
      "source": [
        "rank2_tensor"
      ]
    },
    {
      "cell_type": "code",
      "execution_count": 21,
      "metadata": {
        "colab": {
          "base_uri": "https://localhost:8080/"
        },
        "id": "6CpWjEzy2G_9",
        "outputId": "51733211-965a-453d-8776-f9d381bb1758"
      },
      "outputs": [
        {
          "data": {
            "text/plain": [
              "TensorShape([2, 3])"
            ]
          },
          "execution_count": 21,
          "metadata": {},
          "output_type": "execute_result"
        }
      ],
      "source": [
        "rank2_tensor.shape\n",
        "# the output will show [the number of list, the number of elements in each list]\n",
        "# therefore in the above tensor, we have 2 lists, and each list have 3 elements in it.\n",
        "# therefore, [2,3] as the shape"
      ]
    },
    {
      "cell_type": "code",
      "execution_count": 22,
      "metadata": {
        "colab": {
          "base_uri": "https://localhost:8080/"
        },
        "id": "EZFy5Kye2c-I",
        "outputId": "53504a79-8b19-4b8b-ece3-9d8c3431299b"
      },
      "outputs": [
        {
          "data": {
            "text/plain": [
              "TensorShape([3])"
            ]
          },
          "execution_count": 22,
          "metadata": {},
          "output_type": "execute_result"
        }
      ],
      "source": [
        "rank1_tensor.shape"
      ]
    },
    {
      "cell_type": "markdown",
      "metadata": {
        "id": "e3D1k9BY3RWp"
      },
      "source": [
        "**Changing Shape**\n",
        "\n",
        "The number of elements of a tensor is the product of the sizes of all its shapes. There are often many shapes that have the same number of elements, making it convient to be able to change the shape of a tensor.\n",
        "\n",
        "The example below shows how to change the shape of a tensor."
      ]
    },
    {
      "cell_type": "code",
      "execution_count": 23,
      "metadata": {
        "id": "O-eGS2WB3Y88"
      },
      "outputs": [],
      "source": [
        "tensor1 = tf.ones([1,2,3])  # tf.ones() creates a shape [1,2,3] tensor full of ones\n",
        "tensor2 = tf.reshape(tensor1, [2,3,1])  # reshape existing data to shape [2,3,1]\n",
        "tensor3 = tf.reshape(tensor2, [3, -1])  # -1 tells the tensor to calculate the size of the dimension in that place\n",
        "                                        # this will reshape the tensor to [3, 2]\n",
        "\n",
        "# The numer of elements in the reshaped tensor MUST match the number in the original"
      ]
    },
    {
      "cell_type": "code",
      "execution_count": 25,
      "metadata": {
        "colab": {
          "base_uri": "https://localhost:8080/"
        },
        "id": "bU-IEDr53a1N",
        "outputId": "8512613c-69d9-4160-eaa2-ce73c50f1efd"
      },
      "outputs": [
        {
          "name": "stdout",
          "output_type": "stream",
          "text": [
            "tf.Tensor(\n",
            "[[[1. 1. 1.]\n",
            "  [1. 1. 1.]]], shape=(1, 2, 3), dtype=float32)\n",
            "tf.Tensor(\n",
            "[[[1.]\n",
            "  [1.]\n",
            "  [1.]]\n",
            "\n",
            " [[1.]\n",
            "  [1.]\n",
            "  [1.]]], shape=(2, 3, 1), dtype=float32)\n",
            "tf.Tensor(\n",
            "[[1. 1.]\n",
            " [1. 1.]\n",
            " [1. 1.]], shape=(3, 2), dtype=float32)\n"
          ]
        }
      ],
      "source": [
        "print(tensor1)\n",
        "print(tensor2)\n",
        "print(tensor3)"
      ]
    },
    {
      "cell_type": "code",
      "execution_count": null,
      "metadata": {
        "id": "_psN3-Mo8EqX"
      },
      "outputs": [],
      "source": []
    }
  ],
  "metadata": {
    "colab": {
      "provenance": []
    },
    "kernelspec": {
      "display_name": "Python 3",
      "name": "python3"
    },
    "language_info": {
      "name": "python"
    }
  },
  "nbformat": 4,
  "nbformat_minor": 0
}
