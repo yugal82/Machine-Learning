{
  "nbformat": 4,
  "nbformat_minor": 0,
  "metadata": {
    "colab": {
      "provenance": [],
      "mount_file_id": "1ImuYoxAtl5su-a_bMVq9o3x37vZekhnt",
      "authorship_tag": "ABX9TyOrf88bydhyOFKIK01tB9Hl",
      "include_colab_link": true
    },
    "kernelspec": {
      "name": "python3",
      "display_name": "Python 3"
    },
    "language_info": {
      "name": "python"
    }
  },
  "cells": [
    {
      "cell_type": "markdown",
      "metadata": {
        "id": "view-in-github",
        "colab_type": "text"
      },
      "source": [
        "<a href=\"https://colab.research.google.com/github/yugal82/Machine-Learning/blob/master/Projects/NYC_Taxi_fare_prediction.ipynb\" target=\"_parent\"><img src=\"https://colab.research.google.com/assets/colab-badge.svg\" alt=\"Open In Colab\"/></a>"
      ]
    },
    {
      "cell_type": "code",
      "source": [
        "!pip install opendatasets"
      ],
      "metadata": {
        "colab": {
          "base_uri": "https://localhost:8080/"
        },
        "id": "_Hth5pnUKfTB",
        "outputId": "1a4e9c72-7615-42f4-adb9-d3ac62ad9e26"
      },
      "execution_count": 1,
      "outputs": [
        {
          "output_type": "stream",
          "name": "stdout",
          "text": [
            "Requirement already satisfied: opendatasets in /usr/local/lib/python3.10/dist-packages (0.1.22)\n",
            "Requirement already satisfied: tqdm in /usr/local/lib/python3.10/dist-packages (from opendatasets) (4.66.2)\n",
            "Requirement already satisfied: kaggle in /usr/local/lib/python3.10/dist-packages (from opendatasets) (1.5.16)\n",
            "Requirement already satisfied: click in /usr/local/lib/python3.10/dist-packages (from opendatasets) (8.1.7)\n",
            "Requirement already satisfied: six>=1.10 in /usr/local/lib/python3.10/dist-packages (from kaggle->opendatasets) (1.16.0)\n",
            "Requirement already satisfied: certifi in /usr/local/lib/python3.10/dist-packages (from kaggle->opendatasets) (2024.2.2)\n",
            "Requirement already satisfied: python-dateutil in /usr/local/lib/python3.10/dist-packages (from kaggle->opendatasets) (2.8.2)\n",
            "Requirement already satisfied: requests in /usr/local/lib/python3.10/dist-packages (from kaggle->opendatasets) (2.31.0)\n",
            "Requirement already satisfied: python-slugify in /usr/local/lib/python3.10/dist-packages (from kaggle->opendatasets) (8.0.4)\n",
            "Requirement already satisfied: urllib3 in /usr/local/lib/python3.10/dist-packages (from kaggle->opendatasets) (2.0.7)\n",
            "Requirement already satisfied: bleach in /usr/local/lib/python3.10/dist-packages (from kaggle->opendatasets) (6.1.0)\n",
            "Requirement already satisfied: webencodings in /usr/local/lib/python3.10/dist-packages (from bleach->kaggle->opendatasets) (0.5.1)\n",
            "Requirement already satisfied: text-unidecode>=1.3 in /usr/local/lib/python3.10/dist-packages (from python-slugify->kaggle->opendatasets) (1.3)\n",
            "Requirement already satisfied: charset-normalizer<4,>=2 in /usr/local/lib/python3.10/dist-packages (from requests->kaggle->opendatasets) (3.3.2)\n",
            "Requirement already satisfied: idna<4,>=2.5 in /usr/local/lib/python3.10/dist-packages (from requests->kaggle->opendatasets) (3.6)\n"
          ]
        }
      ]
    },
    {
      "cell_type": "code",
      "source": [
        "import opendatasets  as od\n",
        "dataset_url = 'https://www.kaggle.com/c/new-york-city-taxi-fare-prediction/'\n",
        "od.download(dataset_url)"
      ],
      "metadata": {
        "colab": {
          "base_uri": "https://localhost:8080/"
        },
        "id": "9KgB-mDkLDfA",
        "outputId": "599ff3ce-9f32-4dcd-9872-52dad41eb6f0"
      },
      "execution_count": 2,
      "outputs": [
        {
          "output_type": "stream",
          "name": "stdout",
          "text": [
            "Skipping, found downloaded files in \"./new-york-city-taxi-fare-prediction\" (use force=True to force download)\n"
          ]
        }
      ]
    },
    {
      "cell_type": "code",
      "source": [
        "import pandas as pd\n",
        "import numpy as np\n",
        "import random"
      ],
      "metadata": {
        "id": "TDmv-HPxL6cP"
      },
      "execution_count": 3,
      "outputs": []
    },
    {
      "cell_type": "code",
      "source": [
        "selected_cols = \"fare_amount,pickup_datetime,pickup_latitude,pickup_longitude,dropoff_longitude,dropoff_latitude,passenger_count\".split(\",\")\n",
        "\n",
        "dtypes = {\n",
        "    'fare_amount': 'float32',\n",
        "    'pickup_latitude': 'float32',\n",
        "    'pickup_longitude': 'float32',\n",
        "    'dropoff_longitude': 'float32',\n",
        "    'dropoff_latitude': 'float32',\n",
        "    'passenger_count': 'uint8'\n",
        "}"
      ],
      "metadata": {
        "id": "V9WqEoMwM7ov"
      },
      "execution_count": 4,
      "outputs": []
    },
    {
      "cell_type": "markdown",
      "source": [
        "### Loading Training Set\n",
        "\n",
        "Loading the entire dataset into Pandas is going to be slow, so we can use the following optimizations:\n",
        "\n",
        "- Ignore the `key` column\n",
        "- Parse pickup datetime while loading data\n",
        "- Specify data types for other columns\n",
        "   - `float32` for geo coordinates\n",
        "   - `float32` for fare amount\n",
        "   - `uint8` for passenger count\n",
        "- Work with a 1% sample of the data (~500k rows)\n",
        "\n",
        "We can apply these optimizations while using [`pd.read_csv`](https://pandas.pydata.org/pandas-docs/stable/reference/api/pandas.read_csv.html)"
      ],
      "metadata": {
        "id": "M6VF3x00xm0V"
      }
    },
    {
      "cell_type": "code",
      "source": [
        "random.seed(8)\n",
        "def skip_row(row_idx):\n",
        "  if row_idx == 0:\n",
        "    return False\n",
        "  return random.random() > 0.01\n",
        "\n",
        "train_ds = pd.read_csv(\n",
        "    \"/content/new-york-city-taxi-fare-prediction/train.csv\",\n",
        "    usecols=selected_cols,\n",
        "    parse_dates=['pickup_datetime'],\n",
        "    dtype=dtypes,\n",
        "    skiprows=skip_row\n",
        ")"
      ],
      "metadata": {
        "id": "yVzCsrFkNCge"
      },
      "execution_count": 5,
      "outputs": []
    },
    {
      "cell_type": "markdown",
      "source": [
        "**Load Test Set**\n",
        "\n",
        "For the test set, we'll simply provide the data types."
      ],
      "metadata": {
        "id": "aPOu_AzLxzc4"
      }
    },
    {
      "cell_type": "code",
      "source": [
        "test_df = pd.read_csv(\n",
        "    \"/content/new-york-city-taxi-fare-prediction/test.csv\",\n",
        "    dtype=dtypes,\n",
        "    parse_dates=[\"pickup_datetime\"]\n",
        ")"
      ],
      "metadata": {
        "id": "Vs3JX6Cctdt4"
      },
      "execution_count": 6,
      "outputs": []
    },
    {
      "cell_type": "markdown",
      "source": [
        "## Explore the Dataset\n",
        "\n",
        "- Basic info about training set\n",
        "- Basic info about test set\n",
        "- Exploratory data analysis & visualization"
      ],
      "metadata": {
        "id": "4W0S_qYax8af"
      }
    },
    {
      "cell_type": "code",
      "source": [
        "# train_ds.head(10)\n",
        "print(\"Describe: \\n\", train_ds.describe())\n",
        "print(\"Info: \\n\", train_ds.info())\n",
        "print(\"Null values: \\n\", train_ds.isna().sum())"
      ],
      "metadata": {
        "colab": {
          "base_uri": "https://localhost:8080/"
        },
        "id": "4OMqzyGAQDff",
        "outputId": "6ea1a6dc-5006-48af-c088-36cc121b6d80"
      },
      "execution_count": 7,
      "outputs": [
        {
          "output_type": "stream",
          "name": "stdout",
          "text": [
            "Describe: \n",
            "          fare_amount  pickup_longitude  pickup_latitude  dropoff_longitude  \\\n",
            "count  553708.000000     553708.000000    553708.000000      553699.000000   \n",
            "mean       11.343386        -72.525970        39.912071         -72.497482   \n",
            "std         9.744153         13.166656         7.654707          11.747736   \n",
            "min       -52.000000      -3383.284912     -2555.488037       -1301.503662   \n",
            "25%         6.000000        -73.992088        40.734921         -73.991394   \n",
            "50%         8.500000        -73.981827        40.752670         -73.980141   \n",
            "75%        12.500000        -73.967079        40.767113         -73.963661   \n",
            "max       450.000000        728.531738       430.516663        2497.105713   \n",
            "\n",
            "       dropoff_latitude  passenger_count  \n",
            "count     553699.000000    553708.000000  \n",
            "mean          39.920895         1.686246  \n",
            "std            8.819188         1.310580  \n",
            "min        -2475.718506         0.000000  \n",
            "25%           40.734089         1.000000  \n",
            "50%           40.753220         1.000000  \n",
            "75%           40.768131         2.000000  \n",
            "max         2589.499023         8.000000  \n",
            "<class 'pandas.core.frame.DataFrame'>\n",
            "RangeIndex: 553708 entries, 0 to 553707\n",
            "Data columns (total 7 columns):\n",
            " #   Column             Non-Null Count   Dtype              \n",
            "---  ------             --------------   -----              \n",
            " 0   fare_amount        553708 non-null  float32            \n",
            " 1   pickup_datetime    553708 non-null  datetime64[ns, UTC]\n",
            " 2   pickup_longitude   553708 non-null  float32            \n",
            " 3   pickup_latitude    553708 non-null  float32            \n",
            " 4   dropoff_longitude  553699 non-null  float32            \n",
            " 5   dropoff_latitude   553699 non-null  float32            \n",
            " 6   passenger_count    553708 non-null  uint8              \n",
            "dtypes: datetime64[ns, UTC](1), float32(5), uint8(1)\n",
            "memory usage: 15.3 MB\n",
            "Info: \n",
            " None\n",
            "Null values: \n",
            " fare_amount          0\n",
            "pickup_datetime      0\n",
            "pickup_longitude     0\n",
            "pickup_latitude      0\n",
            "dropoff_longitude    9\n",
            "dropoff_latitude     9\n",
            "passenger_count      0\n",
            "dtype: int64\n"
          ]
        }
      ]
    },
    {
      "cell_type": "code",
      "source": [
        "# test_ds.head(10)\n",
        "print(\"Describe: \\n\", test_df.describe())\n",
        "print(\"Info: \\n\", test_df.info())\n",
        "print(\"Null values: \\n\", test_df.isna().sum())"
      ],
      "metadata": {
        "colab": {
          "base_uri": "https://localhost:8080/"
        },
        "id": "gN62zevHsa5t",
        "outputId": "7ea53041-e60a-439a-8560-3f81bcf8bdf4"
      },
      "execution_count": 10,
      "outputs": [
        {
          "output_type": "stream",
          "name": "stdout",
          "text": [
            "Describe: \n",
            "        pickup_longitude  pickup_latitude  dropoff_longitude  dropoff_latitude  \\\n",
            "count       9914.000000      9914.000000        9914.000000       9914.000000   \n",
            "mean         -73.974716        40.751041         -73.973656         40.751740   \n",
            "std            0.042774         0.033541           0.039072          0.035435   \n",
            "min          -74.252190        40.573143         -74.263245         40.568974   \n",
            "25%          -73.992500        40.736125         -73.991249         40.735253   \n",
            "50%          -73.982327        40.753052         -73.980015         40.754065   \n",
            "75%          -73.968012        40.767113         -73.964062         40.768757   \n",
            "max          -72.986534        41.709557         -72.990967         41.696682   \n",
            "\n",
            "       passenger_count  \n",
            "count      9914.000000  \n",
            "mean          1.671273  \n",
            "std           1.278747  \n",
            "min           1.000000  \n",
            "25%           1.000000  \n",
            "50%           1.000000  \n",
            "75%           2.000000  \n",
            "max           6.000000  \n",
            "<class 'pandas.core.frame.DataFrame'>\n",
            "RangeIndex: 9914 entries, 0 to 9913\n",
            "Data columns (total 7 columns):\n",
            " #   Column             Non-Null Count  Dtype              \n",
            "---  ------             --------------  -----              \n",
            " 0   key                9914 non-null   object             \n",
            " 1   pickup_datetime    9914 non-null   datetime64[ns, UTC]\n",
            " 2   pickup_longitude   9914 non-null   float32            \n",
            " 3   pickup_latitude    9914 non-null   float32            \n",
            " 4   dropoff_longitude  9914 non-null   float32            \n",
            " 5   dropoff_latitude   9914 non-null   float32            \n",
            " 6   passenger_count    9914 non-null   uint8              \n",
            "dtypes: datetime64[ns, UTC](1), float32(4), object(1), uint8(1)\n",
            "memory usage: 319.6+ KB\n",
            "Info: \n",
            " None\n",
            "Null values: \n",
            " key                  0\n",
            "pickup_datetime      0\n",
            "pickup_longitude     0\n",
            "pickup_latitude      0\n",
            "dropoff_longitude    0\n",
            "dropoff_latitude     0\n",
            "passenger_count      0\n",
            "dtype: int64\n"
          ]
        }
      ]
    },
    {
      "cell_type": "markdown",
      "source": [
        "## Prepare Dataset for Training\n",
        "\n",
        "- Split Training & Validation Set\n",
        "- Fill/Remove Missing Values\n",
        "- Extract Inputs & Outputs\n",
        "   - Training\n",
        "   - Validation\n",
        "   - Test"
      ],
      "metadata": {
        "id": "tuABTsbWyGEf"
      }
    },
    {
      "cell_type": "code",
      "source": [
        "from sklearn.model_selection import train_test_split"
      ],
      "metadata": {
        "id": "qE14okITu2YU"
      },
      "execution_count": 11,
      "outputs": []
    },
    {
      "cell_type": "markdown",
      "source": [
        "### Split Training & Validation Set\n",
        "\n",
        "We'll set aside 20% of the training data as the validation set, to evaluate the models we train on previously unseen data.\n",
        "\n",
        "Since the test set and training set have the same date ranges, we can pick a random 20% fraction."
      ],
      "metadata": {
        "id": "6lr13E81ybf9"
      }
    },
    {
      "cell_type": "code",
      "source": [
        "train_df, val_df = train_test_split(train_ds, test_size=0.2, random_state=8)"
      ],
      "metadata": {
        "id": "LdMUvHHzyO1z"
      },
      "execution_count": 12,
      "outputs": []
    },
    {
      "cell_type": "code",
      "source": [
        "len(train_df), len(val_df)"
      ],
      "metadata": {
        "colab": {
          "base_uri": "https://localhost:8080/"
        },
        "id": "VV4-aMfGy4vC",
        "outputId": "d998d044-6ac3-4923-cb13-1264b5c0b83e"
      },
      "execution_count": 13,
      "outputs": [
        {
          "output_type": "execute_result",
          "data": {
            "text/plain": [
              "(442966, 110742)"
            ]
          },
          "metadata": {},
          "execution_count": 13
        }
      ]
    },
    {
      "cell_type": "code",
      "source": [
        "train_df = train_df.dropna()\n",
        "val_df = val_df.dropna()"
      ],
      "metadata": {
        "id": "giOrknliy8hd"
      },
      "execution_count": 14,
      "outputs": []
    },
    {
      "cell_type": "code",
      "source": [
        "train_df.columns"
      ],
      "metadata": {
        "colab": {
          "base_uri": "https://localhost:8080/"
        },
        "id": "Z1apdHkezFzG",
        "outputId": "7a364e5e-32bf-42ba-b69b-0a983a23bf2a"
      },
      "execution_count": 15,
      "outputs": [
        {
          "output_type": "execute_result",
          "data": {
            "text/plain": [
              "Index(['fare_amount', 'pickup_datetime', 'pickup_longitude', 'pickup_latitude',\n",
              "       'dropoff_longitude', 'dropoff_latitude', 'passenger_count'],\n",
              "      dtype='object')"
            ]
          },
          "metadata": {},
          "execution_count": 15
        }
      ]
    },
    {
      "cell_type": "code",
      "source": [
        "input_features = ['pickup_longitude', 'pickup_latitude', 'dropoff_longitude', 'dropoff_latitude', 'passenger_count']\n",
        "target_label = \"fare_amount\""
      ],
      "metadata": {
        "id": "BDs18_cEzLKr"
      },
      "execution_count": 16,
      "outputs": []
    },
    {
      "cell_type": "code",
      "source": [
        "train_ds_input = train_df[input_features]\n",
        "train_ds_target = train_df[target_label]"
      ],
      "metadata": {
        "id": "7Bqyx8BIzZne"
      },
      "execution_count": 17,
      "outputs": []
    },
    {
      "cell_type": "code",
      "source": [
        "print(train_ds_input)\n",
        "print(train_ds_target)"
      ],
      "metadata": {
        "colab": {
          "base_uri": "https://localhost:8080/"
        },
        "id": "B5yELkMrznFf",
        "outputId": "352b8c69-62e5-4112-f093-9b66303d0a7b"
      },
      "execution_count": 18,
      "outputs": [
        {
          "output_type": "stream",
          "name": "stdout",
          "text": [
            "        pickup_longitude  pickup_latitude  dropoff_longitude  \\\n",
            "327779        -74.011520        40.708054         -73.993057   \n",
            "509461        -73.974068        40.753933         -73.978043   \n",
            "456430        -73.990227        40.751686         -73.986275   \n",
            "284224        -73.990784        40.755768         -73.973396   \n",
            "198663        -73.991020        40.742054         -73.998093   \n",
            "...                  ...              ...                ...   \n",
            "403592        -73.955635        40.779488         -73.951050   \n",
            "324570        -74.007660        40.709560         -73.999107   \n",
            "231557        -73.979118        40.787209         -73.960762   \n",
            "149489        -73.989250        40.731621         -73.982498   \n",
            "550228        -73.972328        40.790688         -73.978043   \n",
            "\n",
            "        dropoff_latitude  passenger_count  \n",
            "327779         40.742462                1  \n",
            "509461         40.747253                5  \n",
            "456430         40.744461                6  \n",
            "284224         40.763702                1  \n",
            "198663         40.719528                1  \n",
            "...                  ...              ...  \n",
            "403592         40.775124                1  \n",
            "324570         40.761269                1  \n",
            "231557         40.812099                5  \n",
            "149489         40.771400                3  \n",
            "550228         40.786625                3  \n",
            "\n",
            "[442959 rows x 5 columns]\n",
            "327779     8.9\n",
            "509461     3.3\n",
            "456430     6.0\n",
            "284224     7.0\n",
            "198663    10.5\n",
            "          ... \n",
            "403592     4.9\n",
            "324570     6.9\n",
            "231557     8.1\n",
            "149489    17.5\n",
            "550228     4.0\n",
            "Name: fare_amount, Length: 442959, dtype: float32\n"
          ]
        }
      ]
    },
    {
      "cell_type": "code",
      "source": [
        "val_ds_input = val_df[input_features]\n",
        "val_ds_target = val_df[target_label]"
      ],
      "metadata": {
        "id": "J5-10-FCzosz"
      },
      "execution_count": 19,
      "outputs": []
    },
    {
      "cell_type": "code",
      "source": [
        "print(val_ds_input)\n",
        "print(val_ds_target)"
      ],
      "metadata": {
        "colab": {
          "base_uri": "https://localhost:8080/"
        },
        "id": "qOAvd5vRzt8Z",
        "outputId": "7d252a98-c1df-4d7d-a353-5d18d21b9c5e"
      },
      "execution_count": 22,
      "outputs": [
        {
          "output_type": "stream",
          "name": "stdout",
          "text": [
            "        pickup_longitude  pickup_latitude  dropoff_longitude  \\\n",
            "16227         -73.961151        40.768848         -73.966934   \n",
            "449789        -73.955368        40.782791         -73.975891   \n",
            "269481        -73.863579        40.770000         -74.000244   \n",
            "141054        -73.997261        40.724819         -73.972557   \n",
            "376590        -73.999847        40.726799         -73.981049   \n",
            "...                  ...              ...                ...   \n",
            "512280        -73.980789        40.779812         -73.989197   \n",
            "123562        -73.982407        40.764572         -73.984886   \n",
            "452177          0.000000         0.000000           0.000000   \n",
            "414910        -73.995934        40.726151         -73.941605   \n",
            "46335         -73.961617        40.719326         -74.000954   \n",
            "\n",
            "        dropoff_latitude  passenger_count  \n",
            "16227          40.767139                1  \n",
            "449789         40.754559                1  \n",
            "269481         40.714333                1  \n",
            "141054         40.753582                1  \n",
            "376590         40.752083                2  \n",
            "...                  ...              ...  \n",
            "512280         40.774559                2  \n",
            "123562         40.760139                1  \n",
            "452177          0.000000                2  \n",
            "414910         40.725254                1  \n",
            "46335          40.676239                1  \n",
            "\n",
            "[110740 rows x 5 columns]\n",
            "16227      4.100000\n",
            "449789    11.000000\n",
            "269481    35.049999\n",
            "141054    14.000000\n",
            "376590     7.700000\n",
            "            ...    \n",
            "512280     6.500000\n",
            "123562     4.000000\n",
            "452177    10.500000\n",
            "414910    18.000000\n",
            "46335     16.500000\n",
            "Name: fare_amount, Length: 110740, dtype: float32\n"
          ]
        }
      ]
    },
    {
      "cell_type": "code",
      "source": [
        "test_ds = test_df[input_features]\n",
        "test_ds"
      ],
      "metadata": {
        "id": "rzYX41hG0BXQ",
        "colab": {
          "base_uri": "https://localhost:8080/",
          "height": 423
        },
        "outputId": "e4f18f3f-05c7-413d-fe8f-05d0e77f9a0e"
      },
      "execution_count": 39,
      "outputs": [
        {
          "output_type": "execute_result",
          "data": {
            "text/plain": [
              "      pickup_longitude  pickup_latitude  dropoff_longitude  dropoff_latitude  \\\n",
              "0           -73.973320        40.763805         -73.981430         40.743835   \n",
              "1           -73.986862        40.719383         -73.998886         40.739201   \n",
              "2           -73.982521        40.751259         -73.979652         40.746140   \n",
              "3           -73.981163        40.767807         -73.990448         40.751637   \n",
              "4           -73.966049        40.789776         -73.988564         40.744427   \n",
              "...                ...              ...                ...               ...   \n",
              "9909        -73.968124        40.796997         -73.955643         40.780388   \n",
              "9910        -73.945511        40.803600         -73.960213         40.776371   \n",
              "9911        -73.991600        40.726608         -73.789742         40.647011   \n",
              "9912        -73.985573        40.735432         -73.939178         40.801731   \n",
              "9913        -73.988022        40.754070         -74.000282         40.759220   \n",
              "\n",
              "      passenger_count  \n",
              "0                   1  \n",
              "1                   1  \n",
              "2                   1  \n",
              "3                   1  \n",
              "4                   1  \n",
              "...               ...  \n",
              "9909                6  \n",
              "9910                6  \n",
              "9911                6  \n",
              "9912                6  \n",
              "9913                6  \n",
              "\n",
              "[9914 rows x 5 columns]"
            ],
            "text/html": [
              "\n",
              "  <div id=\"df-374e316e-765f-4b35-9356-c5acbda97948\" class=\"colab-df-container\">\n",
              "    <div>\n",
              "<style scoped>\n",
              "    .dataframe tbody tr th:only-of-type {\n",
              "        vertical-align: middle;\n",
              "    }\n",
              "\n",
              "    .dataframe tbody tr th {\n",
              "        vertical-align: top;\n",
              "    }\n",
              "\n",
              "    .dataframe thead th {\n",
              "        text-align: right;\n",
              "    }\n",
              "</style>\n",
              "<table border=\"1\" class=\"dataframe\">\n",
              "  <thead>\n",
              "    <tr style=\"text-align: right;\">\n",
              "      <th></th>\n",
              "      <th>pickup_longitude</th>\n",
              "      <th>pickup_latitude</th>\n",
              "      <th>dropoff_longitude</th>\n",
              "      <th>dropoff_latitude</th>\n",
              "      <th>passenger_count</th>\n",
              "    </tr>\n",
              "  </thead>\n",
              "  <tbody>\n",
              "    <tr>\n",
              "      <th>0</th>\n",
              "      <td>-73.973320</td>\n",
              "      <td>40.763805</td>\n",
              "      <td>-73.981430</td>\n",
              "      <td>40.743835</td>\n",
              "      <td>1</td>\n",
              "    </tr>\n",
              "    <tr>\n",
              "      <th>1</th>\n",
              "      <td>-73.986862</td>\n",
              "      <td>40.719383</td>\n",
              "      <td>-73.998886</td>\n",
              "      <td>40.739201</td>\n",
              "      <td>1</td>\n",
              "    </tr>\n",
              "    <tr>\n",
              "      <th>2</th>\n",
              "      <td>-73.982521</td>\n",
              "      <td>40.751259</td>\n",
              "      <td>-73.979652</td>\n",
              "      <td>40.746140</td>\n",
              "      <td>1</td>\n",
              "    </tr>\n",
              "    <tr>\n",
              "      <th>3</th>\n",
              "      <td>-73.981163</td>\n",
              "      <td>40.767807</td>\n",
              "      <td>-73.990448</td>\n",
              "      <td>40.751637</td>\n",
              "      <td>1</td>\n",
              "    </tr>\n",
              "    <tr>\n",
              "      <th>4</th>\n",
              "      <td>-73.966049</td>\n",
              "      <td>40.789776</td>\n",
              "      <td>-73.988564</td>\n",
              "      <td>40.744427</td>\n",
              "      <td>1</td>\n",
              "    </tr>\n",
              "    <tr>\n",
              "      <th>...</th>\n",
              "      <td>...</td>\n",
              "      <td>...</td>\n",
              "      <td>...</td>\n",
              "      <td>...</td>\n",
              "      <td>...</td>\n",
              "    </tr>\n",
              "    <tr>\n",
              "      <th>9909</th>\n",
              "      <td>-73.968124</td>\n",
              "      <td>40.796997</td>\n",
              "      <td>-73.955643</td>\n",
              "      <td>40.780388</td>\n",
              "      <td>6</td>\n",
              "    </tr>\n",
              "    <tr>\n",
              "      <th>9910</th>\n",
              "      <td>-73.945511</td>\n",
              "      <td>40.803600</td>\n",
              "      <td>-73.960213</td>\n",
              "      <td>40.776371</td>\n",
              "      <td>6</td>\n",
              "    </tr>\n",
              "    <tr>\n",
              "      <th>9911</th>\n",
              "      <td>-73.991600</td>\n",
              "      <td>40.726608</td>\n",
              "      <td>-73.789742</td>\n",
              "      <td>40.647011</td>\n",
              "      <td>6</td>\n",
              "    </tr>\n",
              "    <tr>\n",
              "      <th>9912</th>\n",
              "      <td>-73.985573</td>\n",
              "      <td>40.735432</td>\n",
              "      <td>-73.939178</td>\n",
              "      <td>40.801731</td>\n",
              "      <td>6</td>\n",
              "    </tr>\n",
              "    <tr>\n",
              "      <th>9913</th>\n",
              "      <td>-73.988022</td>\n",
              "      <td>40.754070</td>\n",
              "      <td>-74.000282</td>\n",
              "      <td>40.759220</td>\n",
              "      <td>6</td>\n",
              "    </tr>\n",
              "  </tbody>\n",
              "</table>\n",
              "<p>9914 rows × 5 columns</p>\n",
              "</div>\n",
              "    <div class=\"colab-df-buttons\">\n",
              "\n",
              "  <div class=\"colab-df-container\">\n",
              "    <button class=\"colab-df-convert\" onclick=\"convertToInteractive('df-374e316e-765f-4b35-9356-c5acbda97948')\"\n",
              "            title=\"Convert this dataframe to an interactive table.\"\n",
              "            style=\"display:none;\">\n",
              "\n",
              "  <svg xmlns=\"http://www.w3.org/2000/svg\" height=\"24px\" viewBox=\"0 -960 960 960\">\n",
              "    <path d=\"M120-120v-720h720v720H120Zm60-500h600v-160H180v160Zm220 220h160v-160H400v160Zm0 220h160v-160H400v160ZM180-400h160v-160H180v160Zm440 0h160v-160H620v160ZM180-180h160v-160H180v160Zm440 0h160v-160H620v160Z\"/>\n",
              "  </svg>\n",
              "    </button>\n",
              "\n",
              "  <style>\n",
              "    .colab-df-container {\n",
              "      display:flex;\n",
              "      gap: 12px;\n",
              "    }\n",
              "\n",
              "    .colab-df-convert {\n",
              "      background-color: #E8F0FE;\n",
              "      border: none;\n",
              "      border-radius: 50%;\n",
              "      cursor: pointer;\n",
              "      display: none;\n",
              "      fill: #1967D2;\n",
              "      height: 32px;\n",
              "      padding: 0 0 0 0;\n",
              "      width: 32px;\n",
              "    }\n",
              "\n",
              "    .colab-df-convert:hover {\n",
              "      background-color: #E2EBFA;\n",
              "      box-shadow: 0px 1px 2px rgba(60, 64, 67, 0.3), 0px 1px 3px 1px rgba(60, 64, 67, 0.15);\n",
              "      fill: #174EA6;\n",
              "    }\n",
              "\n",
              "    .colab-df-buttons div {\n",
              "      margin-bottom: 4px;\n",
              "    }\n",
              "\n",
              "    [theme=dark] .colab-df-convert {\n",
              "      background-color: #3B4455;\n",
              "      fill: #D2E3FC;\n",
              "    }\n",
              "\n",
              "    [theme=dark] .colab-df-convert:hover {\n",
              "      background-color: #434B5C;\n",
              "      box-shadow: 0px 1px 3px 1px rgba(0, 0, 0, 0.15);\n",
              "      filter: drop-shadow(0px 1px 2px rgba(0, 0, 0, 0.3));\n",
              "      fill: #FFFFFF;\n",
              "    }\n",
              "  </style>\n",
              "\n",
              "    <script>\n",
              "      const buttonEl =\n",
              "        document.querySelector('#df-374e316e-765f-4b35-9356-c5acbda97948 button.colab-df-convert');\n",
              "      buttonEl.style.display =\n",
              "        google.colab.kernel.accessAllowed ? 'block' : 'none';\n",
              "\n",
              "      async function convertToInteractive(key) {\n",
              "        const element = document.querySelector('#df-374e316e-765f-4b35-9356-c5acbda97948');\n",
              "        const dataTable =\n",
              "          await google.colab.kernel.invokeFunction('convertToInteractive',\n",
              "                                                    [key], {});\n",
              "        if (!dataTable) return;\n",
              "\n",
              "        const docLinkHtml = 'Like what you see? Visit the ' +\n",
              "          '<a target=\"_blank\" href=https://colab.research.google.com/notebooks/data_table.ipynb>data table notebook</a>'\n",
              "          + ' to learn more about interactive tables.';\n",
              "        element.innerHTML = '';\n",
              "        dataTable['output_type'] = 'display_data';\n",
              "        await google.colab.output.renderOutput(dataTable, element);\n",
              "        const docLink = document.createElement('div');\n",
              "        docLink.innerHTML = docLinkHtml;\n",
              "        element.appendChild(docLink);\n",
              "      }\n",
              "    </script>\n",
              "  </div>\n",
              "\n",
              "\n",
              "<div id=\"df-4930f131-dc8c-4e1a-a9a8-d623bb9dfacd\">\n",
              "  <button class=\"colab-df-quickchart\" onclick=\"quickchart('df-4930f131-dc8c-4e1a-a9a8-d623bb9dfacd')\"\n",
              "            title=\"Suggest charts\"\n",
              "            style=\"display:none;\">\n",
              "\n",
              "<svg xmlns=\"http://www.w3.org/2000/svg\" height=\"24px\"viewBox=\"0 0 24 24\"\n",
              "     width=\"24px\">\n",
              "    <g>\n",
              "        <path d=\"M19 3H5c-1.1 0-2 .9-2 2v14c0 1.1.9 2 2 2h14c1.1 0 2-.9 2-2V5c0-1.1-.9-2-2-2zM9 17H7v-7h2v7zm4 0h-2V7h2v10zm4 0h-2v-4h2v4z\"/>\n",
              "    </g>\n",
              "</svg>\n",
              "  </button>\n",
              "\n",
              "<style>\n",
              "  .colab-df-quickchart {\n",
              "      --bg-color: #E8F0FE;\n",
              "      --fill-color: #1967D2;\n",
              "      --hover-bg-color: #E2EBFA;\n",
              "      --hover-fill-color: #174EA6;\n",
              "      --disabled-fill-color: #AAA;\n",
              "      --disabled-bg-color: #DDD;\n",
              "  }\n",
              "\n",
              "  [theme=dark] .colab-df-quickchart {\n",
              "      --bg-color: #3B4455;\n",
              "      --fill-color: #D2E3FC;\n",
              "      --hover-bg-color: #434B5C;\n",
              "      --hover-fill-color: #FFFFFF;\n",
              "      --disabled-bg-color: #3B4455;\n",
              "      --disabled-fill-color: #666;\n",
              "  }\n",
              "\n",
              "  .colab-df-quickchart {\n",
              "    background-color: var(--bg-color);\n",
              "    border: none;\n",
              "    border-radius: 50%;\n",
              "    cursor: pointer;\n",
              "    display: none;\n",
              "    fill: var(--fill-color);\n",
              "    height: 32px;\n",
              "    padding: 0;\n",
              "    width: 32px;\n",
              "  }\n",
              "\n",
              "  .colab-df-quickchart:hover {\n",
              "    background-color: var(--hover-bg-color);\n",
              "    box-shadow: 0 1px 2px rgba(60, 64, 67, 0.3), 0 1px 3px 1px rgba(60, 64, 67, 0.15);\n",
              "    fill: var(--button-hover-fill-color);\n",
              "  }\n",
              "\n",
              "  .colab-df-quickchart-complete:disabled,\n",
              "  .colab-df-quickchart-complete:disabled:hover {\n",
              "    background-color: var(--disabled-bg-color);\n",
              "    fill: var(--disabled-fill-color);\n",
              "    box-shadow: none;\n",
              "  }\n",
              "\n",
              "  .colab-df-spinner {\n",
              "    border: 2px solid var(--fill-color);\n",
              "    border-color: transparent;\n",
              "    border-bottom-color: var(--fill-color);\n",
              "    animation:\n",
              "      spin 1s steps(1) infinite;\n",
              "  }\n",
              "\n",
              "  @keyframes spin {\n",
              "    0% {\n",
              "      border-color: transparent;\n",
              "      border-bottom-color: var(--fill-color);\n",
              "      border-left-color: var(--fill-color);\n",
              "    }\n",
              "    20% {\n",
              "      border-color: transparent;\n",
              "      border-left-color: var(--fill-color);\n",
              "      border-top-color: var(--fill-color);\n",
              "    }\n",
              "    30% {\n",
              "      border-color: transparent;\n",
              "      border-left-color: var(--fill-color);\n",
              "      border-top-color: var(--fill-color);\n",
              "      border-right-color: var(--fill-color);\n",
              "    }\n",
              "    40% {\n",
              "      border-color: transparent;\n",
              "      border-right-color: var(--fill-color);\n",
              "      border-top-color: var(--fill-color);\n",
              "    }\n",
              "    60% {\n",
              "      border-color: transparent;\n",
              "      border-right-color: var(--fill-color);\n",
              "    }\n",
              "    80% {\n",
              "      border-color: transparent;\n",
              "      border-right-color: var(--fill-color);\n",
              "      border-bottom-color: var(--fill-color);\n",
              "    }\n",
              "    90% {\n",
              "      border-color: transparent;\n",
              "      border-bottom-color: var(--fill-color);\n",
              "    }\n",
              "  }\n",
              "</style>\n",
              "\n",
              "  <script>\n",
              "    async function quickchart(key) {\n",
              "      const quickchartButtonEl =\n",
              "        document.querySelector('#' + key + ' button');\n",
              "      quickchartButtonEl.disabled = true;  // To prevent multiple clicks.\n",
              "      quickchartButtonEl.classList.add('colab-df-spinner');\n",
              "      try {\n",
              "        const charts = await google.colab.kernel.invokeFunction(\n",
              "            'suggestCharts', [key], {});\n",
              "      } catch (error) {\n",
              "        console.error('Error during call to suggestCharts:', error);\n",
              "      }\n",
              "      quickchartButtonEl.classList.remove('colab-df-spinner');\n",
              "      quickchartButtonEl.classList.add('colab-df-quickchart-complete');\n",
              "    }\n",
              "    (() => {\n",
              "      let quickchartButtonEl =\n",
              "        document.querySelector('#df-4930f131-dc8c-4e1a-a9a8-d623bb9dfacd button');\n",
              "      quickchartButtonEl.style.display =\n",
              "        google.colab.kernel.accessAllowed ? 'block' : 'none';\n",
              "    })();\n",
              "  </script>\n",
              "</div>\n",
              "    </div>\n",
              "  </div>\n"
            ],
            "application/vnd.google.colaboratory.intrinsic+json": {
              "type": "dataframe",
              "variable_name": "test_ds",
              "summary": "{\n  \"name\": \"test_ds\",\n  \"rows\": 9914,\n  \"fields\": [\n    {\n      \"column\": \"pickup_longitude\",\n      \"properties\": {\n        \"dtype\": \"float32\",\n        \"num_unique_values\": 5894,\n        \"samples\": [\n          -74.0028076171875,\n          -74.0020523071289,\n          -73.99974060058594\n        ],\n        \"semantic_type\": \"\",\n        \"description\": \"\"\n      }\n    },\n    {\n      \"column\": \"pickup_latitude\",\n      \"properties\": {\n        \"dtype\": \"float32\",\n        \"num_unique_values\": 7857,\n        \"samples\": [\n          40.753414154052734,\n          40.73805236816406,\n          40.7579231262207\n        ],\n        \"semantic_type\": \"\",\n        \"description\": \"\"\n      }\n    },\n    {\n      \"column\": \"dropoff_longitude\",\n      \"properties\": {\n        \"dtype\": \"float32\",\n        \"num_unique_values\": 6174,\n        \"samples\": [\n          -73.97686767578125,\n          -73.97747802734375,\n          -73.78315734863281\n        ],\n        \"semantic_type\": \"\",\n        \"description\": \"\"\n      }\n    },\n    {\n      \"column\": \"dropoff_latitude\",\n      \"properties\": {\n        \"dtype\": \"float32\",\n        \"num_unique_values\": 8124,\n        \"samples\": [\n          40.76008224487305,\n          40.713375091552734,\n          40.7858772277832\n        ],\n        \"semantic_type\": \"\",\n        \"description\": \"\"\n      }\n    },\n    {\n      \"column\": \"passenger_count\",\n      \"properties\": {\n        \"dtype\": \"uint8\",\n        \"num_unique_values\": 6,\n        \"samples\": [\n          1,\n          2,\n          6\n        ],\n        \"semantic_type\": \"\",\n        \"description\": \"\"\n      }\n    }\n  ]\n}"
            }
          },
          "metadata": {},
          "execution_count": 39
        }
      ]
    },
    {
      "cell_type": "markdown",
      "source": [
        "## Train Hardcoded & Baseline Models\n",
        "\n",
        "- Hardcoded model: always predict average fare\n",
        "- Baseline model: Linear regression\n",
        "\n",
        "For evaluation the dataset uses RMSE error:\n",
        "https://www.kaggle.com/c/new-york-city-taxi-fare-prediction/overview/evaluation"
      ],
      "metadata": {
        "id": "TNR8UMho2A_K"
      }
    },
    {
      "cell_type": "code",
      "source": [
        "class MeanRegressor:\n",
        "  def fit(self, inputs, targets):\n",
        "    self.mean = targets.mean()\n",
        "\n",
        "  def predict(self, inputs):\n",
        "    return np.full(inputs.shape[0], self.mean)"
      ],
      "metadata": {
        "id": "XdVjUo_Y1sgB"
      },
      "execution_count": 23,
      "outputs": []
    },
    {
      "cell_type": "code",
      "source": [
        "mean_model = MeanRegressor()"
      ],
      "metadata": {
        "id": "ycL18dPT2gkL"
      },
      "execution_count": 24,
      "outputs": []
    },
    {
      "cell_type": "code",
      "source": [
        "mean_model.fit(train_ds_input, train_ds_target)"
      ],
      "metadata": {
        "id": "tn_Uj1Sa2kAb"
      },
      "execution_count": 25,
      "outputs": []
    },
    {
      "cell_type": "code",
      "source": [
        "mean_model.mean"
      ],
      "metadata": {
        "colab": {
          "base_uri": "https://localhost:8080/"
        },
        "id": "5yO56pnM2sJX",
        "outputId": "df472864-d3fc-4496-e412-7580af67fda0"
      },
      "execution_count": 26,
      "outputs": [
        {
          "output_type": "execute_result",
          "data": {
            "text/plain": [
              "11.346553"
            ]
          },
          "metadata": {},
          "execution_count": 26
        }
      ]
    },
    {
      "cell_type": "code",
      "source": [
        "train_preds = mean_model.predict(train_ds_input)\n",
        "train_preds"
      ],
      "metadata": {
        "colab": {
          "base_uri": "https://localhost:8080/"
        },
        "id": "NWRdEID_2ycC",
        "outputId": "5db7b122-b9d2-4de9-c279-64b75cc74341"
      },
      "execution_count": 27,
      "outputs": [
        {
          "output_type": "execute_result",
          "data": {
            "text/plain": [
              "array([11.346553, 11.346553, 11.346553, ..., 11.346553, 11.346553,\n",
              "       11.346553], dtype=float32)"
            ]
          },
          "metadata": {},
          "execution_count": 27
        }
      ]
    },
    {
      "cell_type": "code",
      "source": [
        "train_ds_target"
      ],
      "metadata": {
        "colab": {
          "base_uri": "https://localhost:8080/"
        },
        "id": "-tTwusK03w8h",
        "outputId": "b9ac2221-8b1d-4d57-adba-b8836f32cb05"
      },
      "execution_count": 28,
      "outputs": [
        {
          "output_type": "execute_result",
          "data": {
            "text/plain": [
              "327779     8.9\n",
              "509461     3.3\n",
              "456430     6.0\n",
              "284224     7.0\n",
              "198663    10.5\n",
              "          ... \n",
              "403592     4.9\n",
              "324570     6.9\n",
              "231557     8.1\n",
              "149489    17.5\n",
              "550228     4.0\n",
              "Name: fare_amount, Length: 442959, dtype: float32"
            ]
          },
          "metadata": {},
          "execution_count": 28
        }
      ]
    },
    {
      "cell_type": "code",
      "source": [
        "val_preds = mean_model.predict(val_ds_input)\n",
        "val_preds"
      ],
      "metadata": {
        "colab": {
          "base_uri": "https://localhost:8080/"
        },
        "id": "yocMQ9bV270k",
        "outputId": "b19e710c-e6e6-44fe-af0b-6e41c335e0a3"
      },
      "execution_count": 29,
      "outputs": [
        {
          "output_type": "execute_result",
          "data": {
            "text/plain": [
              "array([11.346553, 11.346553, 11.346553, ..., 11.346553, 11.346553,\n",
              "       11.346553], dtype=float32)"
            ]
          },
          "metadata": {},
          "execution_count": 29
        }
      ]
    },
    {
      "cell_type": "markdown",
      "source": [
        "## Error between predicted and actual\n",
        "\n",
        "Above, the predicted mean by the `MeanRegressor` model is 11.364 for every record in the training dataset.\n",
        "\n",
        "And, the actual target is 8.9, 3.3, 6.0, etc\n",
        "\n",
        "1. The error for first record is 11.364 - 8.9 = 2.464\n",
        "2. The error for second record is 11.364 - 3.3 = 8.064\n",
        "3. The error for third record is 11.364 - 6.0 = 5.364\n",
        "\n",
        "and so on for each record.\n",
        "\n",
        "We make use of root mean squared error to see how badly our model performs."
      ],
      "metadata": {
        "id": "P36pjRjP5E1X"
      }
    },
    {
      "cell_type": "code",
      "source": [
        "from sklearn.metrics import mean_squared_error"
      ],
      "metadata": {
        "id": "oJgGgRso3HG7"
      },
      "execution_count": 30,
      "outputs": []
    },
    {
      "cell_type": "code",
      "source": [
        "def rmse(actual, predictions):\n",
        "  return mean_squared_error(actual, predictions, squared=False)"
      ],
      "metadata": {
        "id": "D3qn2pN25iXw"
      },
      "execution_count": 31,
      "outputs": []
    },
    {
      "cell_type": "code",
      "source": [
        "train_rmse = rmse(train_ds_target, train_preds)\n",
        "train_rmse"
      ],
      "metadata": {
        "colab": {
          "base_uri": "https://localhost:8080/"
        },
        "id": "ooz_zoCp5-O0",
        "outputId": "758ded43-c0b0-4509-b1fd-97233f52a312"
      },
      "execution_count": 32,
      "outputs": [
        {
          "output_type": "execute_result",
          "data": {
            "text/plain": [
              "9.771893"
            ]
          },
          "metadata": {},
          "execution_count": 32
        }
      ]
    },
    {
      "cell_type": "code",
      "source": [
        "val_rmse = rmse(val_ds_target, val_preds)\n",
        "val_rmse"
      ],
      "metadata": {
        "colab": {
          "base_uri": "https://localhost:8080/"
        },
        "id": "gi38Alz161Hc",
        "outputId": "86d376e8-8ca4-4d88-c66d-807e5f37a0f2"
      },
      "execution_count": 33,
      "outputs": [
        {
          "output_type": "execute_result",
          "data": {
            "text/plain": [
              "9.632431"
            ]
          },
          "metadata": {},
          "execution_count": 33
        }
      ]
    },
    {
      "cell_type": "markdown",
      "source": [
        "## RMSE = 9.771893\n",
        "\n",
        "That means that, on average, for each record, the prediction of the model of fare amount is approx. 9.7 dollars off the actual fare amount, which is quite bad."
      ],
      "metadata": {
        "id": "7RzJBNd66KOe"
      }
    },
    {
      "cell_type": "markdown",
      "source": [
        "### Train & Evaluate Baseline Model\n",
        "\n",
        "We'll traina linear regression model as our baseline, which tries to express the target as a weighted sum of the inputs."
      ],
      "metadata": {
        "id": "ph7YOBKC8h9l"
      }
    },
    {
      "cell_type": "code",
      "source": [
        "from sklearn.linear_model import LinearRegression\n",
        "linreg_model = LinearRegression()\n",
        "linreg_model.fit(train_ds_input, train_ds_target)\n",
        "train_preds = linreg_model.predict(train_ds_input)\n",
        "train_preds"
      ],
      "metadata": {
        "colab": {
          "base_uri": "https://localhost:8080/"
        },
        "id": "AnWal4GV6GMU",
        "outputId": "5e4953ad-9447-4fdb-c3dd-8bc511cbed44"
      },
      "execution_count": 34,
      "outputs": [
        {
          "output_type": "execute_result",
          "data": {
            "text/plain": [
              "array([11.246101 , 11.730324 , 11.8510895, ..., 11.73045  , 11.488152 ,\n",
              "       11.488618 ], dtype=float32)"
            ]
          },
          "metadata": {},
          "execution_count": 34
        }
      ]
    },
    {
      "cell_type": "code",
      "source": [
        "train_ds_target"
      ],
      "metadata": {
        "colab": {
          "base_uri": "https://localhost:8080/"
        },
        "id": "PRyGAJMF9wD-",
        "outputId": "55f9fa97-ebd5-4242-8254-ae9e0fa310ec"
      },
      "execution_count": 35,
      "outputs": [
        {
          "output_type": "execute_result",
          "data": {
            "text/plain": [
              "327779     8.9\n",
              "509461     3.3\n",
              "456430     6.0\n",
              "284224     7.0\n",
              "198663    10.5\n",
              "          ... \n",
              "403592     4.9\n",
              "324570     6.9\n",
              "231557     8.1\n",
              "149489    17.5\n",
              "550228     4.0\n",
              "Name: fare_amount, Length: 442959, dtype: float32"
            ]
          },
          "metadata": {},
          "execution_count": 35
        }
      ]
    },
    {
      "cell_type": "code",
      "source": [
        "test_preds = linreg_model.predict(test_ds)\n",
        "test_preds"
      ],
      "metadata": {
        "colab": {
          "base_uri": "https://localhost:8080/"
        },
        "id": "-sdKLk4h_eCv",
        "outputId": "32923660-1f4b-4c29-e0f4-793e4f6e4ad0"
      },
      "execution_count": 36,
      "outputs": [
        {
          "output_type": "execute_result",
          "data": {
            "text/plain": [
              "array([11.246746 , 11.246227 , 11.246632 , ..., 11.8532095, 11.851213 ,\n",
              "       11.850919 ], dtype=float32)"
            ]
          },
          "metadata": {},
          "execution_count": 36
        }
      ]
    },
    {
      "cell_type": "markdown",
      "source": [
        "## 6. Feature Engineering\n",
        "\n",
        "\n",
        "- Extract parts of date\n",
        "- Remove outliers & invalid data\n",
        "- Add distance between pickup & drop\n",
        "- Add distance from landmarks\n",
        "\n",
        "Exercise: We're going to apply all of the above together, but you should observer the effect of adding each feature individually.\n",
        "\n",
        "\n",
        "### Extract Parts of Date\n",
        "\n",
        "- Year\n",
        "- Month\n",
        "- Day\n",
        "- Weekday\n",
        "- Hour\n"
      ],
      "metadata": {
        "id": "o9AZNP_2eltq"
      }
    },
    {
      "cell_type": "code",
      "source": [
        "def add_dateparts(ds, col):\n",
        "  ds[col+ '_year'] = ds[col].dt.year\n",
        "  ds[col+ '_month'] = ds[col].dt.month\n",
        "  ds[col+ 'day'] = ds[col].dt.day\n",
        "  ds[col+ '_weekday'] = ds[col].dt.weekday\n",
        "  ds[col+ '_hour'] = ds[col].dt.hour"
      ],
      "metadata": {
        "id": "deB5W7m9ACLc"
      },
      "execution_count": 37,
      "outputs": []
    },
    {
      "cell_type": "code",
      "source": [
        "add_dateparts(train_ds, \"pickup_datetime\")"
      ],
      "metadata": {
        "id": "uOUTOLsrhx0o"
      },
      "execution_count": 40,
      "outputs": []
    },
    {
      "cell_type": "code",
      "source": [
        "add_dateparts(val_df, \"pickup_datetime\")"
      ],
      "metadata": {
        "id": "FiD9GKOLicbD"
      },
      "execution_count": 41,
      "outputs": []
    },
    {
      "cell_type": "code",
      "source": [
        "add_dateparts(test_df, \"pickup_datetime\")"
      ],
      "metadata": {
        "id": "PBhjQbHWiujM"
      },
      "execution_count": 43,
      "outputs": []
    },
    {
      "cell_type": "markdown",
      "source": [
        "### Add Distance Between Pickup and Drop\n",
        "\n",
        "We can use the haversine distance:\n",
        "- https://en.wikipedia.org/wiki/Haversine_formula\n",
        "- https://stackoverflow.com/questions/29545704/fast-haversine-approximation-python-pandas"
      ],
      "metadata": {
        "id": "Sws2sK65nI2m"
      }
    },
    {
      "cell_type": "code",
      "source": [
        "import numpy as np\n",
        "\n",
        "def haversine_np(lon1, lat1, lon2, lat2):\n",
        "    \"\"\"\n",
        "    Calculate the great circle distance between two points\n",
        "    on the earth (specified in decimal degrees)\n",
        "\n",
        "    All args must be of equal length.\n",
        "\n",
        "    \"\"\"\n",
        "    lon1, lat1, lon2, lat2 = map(np.radians, [lon1, lat1, lon2, lat2])\n",
        "\n",
        "    dlon = lon2 - lon1\n",
        "    dlat = lat2 - lat1\n",
        "\n",
        "    a = np.sin(dlat/2.0)**2 + np.cos(lat1) * np.cos(lat2) * np.sin(dlon/2.0)**2\n",
        "\n",
        "    c = 2 * np.arcsin(np.sqrt(a))\n",
        "    km = 6367 * c\n",
        "    return km"
      ],
      "metadata": {
        "id": "0hS6LVW7nIbY"
      },
      "execution_count": 44,
      "outputs": []
    },
    {
      "cell_type": "code",
      "source": [
        "def add_trip_distance(ds):\n",
        "    ds['trip_distance'] = haversine_np(ds['pickup_longitude'], ds['pickup_latitude'], ds['dropoff_longitude'], ds['dropoff_latitude'])"
      ],
      "metadata": {
        "id": "iBJqq9C_lX73"
      },
      "execution_count": 45,
      "outputs": []
    },
    {
      "cell_type": "code",
      "source": [
        "add_trip_distance(train_ds)"
      ],
      "metadata": {
        "id": "OqUcWDBungno"
      },
      "execution_count": 46,
      "outputs": []
    },
    {
      "cell_type": "code",
      "source": [
        "add_trip_distance(val_df)"
      ],
      "metadata": {
        "id": "5W1lSeUNn35y"
      },
      "execution_count": 47,
      "outputs": []
    },
    {
      "cell_type": "code",
      "source": [
        "add_trip_distance(test_df)"
      ],
      "metadata": {
        "id": "A53asXlun8oI"
      },
      "execution_count": 48,
      "outputs": []
    },
    {
      "cell_type": "markdown",
      "source": [
        "### Add Distance From Popular Landmarks\n",
        "\n",
        "- JFK Airport\n",
        "- LGA Airport\n",
        "- EWR Airport\n",
        "- Times Square\n",
        "- Met Meuseum\n",
        "- World Trade Center\n",
        "\n",
        "We'll add the distance from drop location."
      ],
      "metadata": {
        "id": "I_mAIXQEqF9U"
      }
    },
    {
      "cell_type": "code",
      "source": [
        "jfk_lonlat = -73.7781, 40.6413\n",
        "lga_lonlat = -73.8740, 40.7769\n",
        "ewr_lonlat = -74.1745, 40.6895\n",
        "met_lonlat = -73.9632, 40.7794\n",
        "wtc_lonlat = -74.0099, 40.7126"
      ],
      "metadata": {
        "id": "D3P6mhadoCAT"
      },
      "execution_count": 49,
      "outputs": []
    },
    {
      "cell_type": "code",
      "source": [
        "def add_landmark_dropoff_distance(ds, landmark_name, landmark_lonlat):\n",
        "    lon, lat = landmark_lonlat\n",
        "    ds[landmark_name + '_drop_distance'] = haversine_np(lon, lat, ds['dropoff_longitude'], ds['dropoff_latitude'])"
      ],
      "metadata": {
        "id": "brXvzl-IqMcb"
      },
      "execution_count": 50,
      "outputs": []
    },
    {
      "cell_type": "code",
      "source": [
        "def add_landmark(ds):\n",
        "  landmarks = [('jfk', jfk_lonlat), ('lga', lga_lonlat), ('ewr', ewr_lonlat), ('met', met_lonlat), ('wtc', wtc_lonlat)]\n",
        "  for name, lonlat in landmarks:\n",
        "    add_landmark_dropoff_distance(ds, name, lonlat)"
      ],
      "metadata": {
        "id": "OmJumYh1qZI-"
      },
      "execution_count": 51,
      "outputs": []
    },
    {
      "cell_type": "code",
      "source": [
        "add_landmark(train_ds)\n",
        "add_landmark(val_df)\n",
        "add_landmark(test_df)"
      ],
      "metadata": {
        "id": "We0ClJ-5r48A"
      },
      "execution_count": 52,
      "outputs": []
    },
    {
      "cell_type": "code",
      "source": [
        "train_ds.head()"
      ],
      "metadata": {
        "colab": {
          "base_uri": "https://localhost:8080/",
          "height": 313
        },
        "id": "fmkhThLssHdA",
        "outputId": "31f693db-2cb6-4b11-83bf-4b4deeb70ca1"
      },
      "execution_count": 54,
      "outputs": [
        {
          "output_type": "execute_result",
          "data": {
            "text/plain": [
              "   fare_amount           pickup_datetime  pickup_longitude  pickup_latitude  \\\n",
              "0          8.5 2012-03-25 09:22:45+00:00        -73.986679        40.725658   \n",
              "1         12.9 2009-07-16 20:33:00+00:00        -73.980759        40.680557   \n",
              "2          4.0 2014-02-22 18:41:34+00:00        -73.990364        40.757343   \n",
              "3          9.7 2012-07-10 13:13:07+00:00        -73.991005        40.733334   \n",
              "4          4.0 2014-01-18 23:03:00+00:00        -74.005432        40.736958   \n",
              "\n",
              "   dropoff_longitude  dropoff_latitude  passenger_count  pickup_datetime_year  \\\n",
              "0         -73.977066         40.754505                1                  2012   \n",
              "1         -73.989113         40.726788                2                  2009   \n",
              "2         -73.985374         40.760605                1                  2014   \n",
              "3         -73.987000         40.747791                1                  2012   \n",
              "4         -73.998642         40.744995                1                  2014   \n",
              "\n",
              "   pickup_datetime_month  pickup_datetimeday  pickup_datetime_weekday  \\\n",
              "0                      3                  25                        6   \n",
              "1                      7                  16                        3   \n",
              "2                      2                  22                        5   \n",
              "3                      7                  10                        1   \n",
              "4                      1                  18                        5   \n",
              "\n",
              "   pickup_datetime_hour  trip_distance  jfk_drop_distance  lga_drop_distance  \\\n",
              "0                     9       3.306201          20.958735           9.024495   \n",
              "1                    20       5.185302          20.160040          11.176340   \n",
              "2                    18       0.554520          21.924940           9.546513   \n",
              "3                    13       1.641773          21.209339          10.045919   \n",
              "4                    23       1.060889          21.864847          11.073668   \n",
              "\n",
              "   ewr_drop_distance  met_drop_distance  wtc_drop_distance  \n",
              "0          18.129211           3.002265           5.415720  \n",
              "1          16.157242           6.240120           2.356164  \n",
              "2          17.779884           2.800522           5.720479  \n",
              "3          17.069136           4.043235           4.360438  \n",
              "4          16.044769           4.848884           3.722812  "
            ],
            "text/html": [
              "\n",
              "  <div id=\"df-15be6a06-09c3-4cb6-8f84-d66cf68785ca\" class=\"colab-df-container\">\n",
              "    <div>\n",
              "<style scoped>\n",
              "    .dataframe tbody tr th:only-of-type {\n",
              "        vertical-align: middle;\n",
              "    }\n",
              "\n",
              "    .dataframe tbody tr th {\n",
              "        vertical-align: top;\n",
              "    }\n",
              "\n",
              "    .dataframe thead th {\n",
              "        text-align: right;\n",
              "    }\n",
              "</style>\n",
              "<table border=\"1\" class=\"dataframe\">\n",
              "  <thead>\n",
              "    <tr style=\"text-align: right;\">\n",
              "      <th></th>\n",
              "      <th>fare_amount</th>\n",
              "      <th>pickup_datetime</th>\n",
              "      <th>pickup_longitude</th>\n",
              "      <th>pickup_latitude</th>\n",
              "      <th>dropoff_longitude</th>\n",
              "      <th>dropoff_latitude</th>\n",
              "      <th>passenger_count</th>\n",
              "      <th>pickup_datetime_year</th>\n",
              "      <th>pickup_datetime_month</th>\n",
              "      <th>pickup_datetimeday</th>\n",
              "      <th>pickup_datetime_weekday</th>\n",
              "      <th>pickup_datetime_hour</th>\n",
              "      <th>trip_distance</th>\n",
              "      <th>jfk_drop_distance</th>\n",
              "      <th>lga_drop_distance</th>\n",
              "      <th>ewr_drop_distance</th>\n",
              "      <th>met_drop_distance</th>\n",
              "      <th>wtc_drop_distance</th>\n",
              "    </tr>\n",
              "  </thead>\n",
              "  <tbody>\n",
              "    <tr>\n",
              "      <th>0</th>\n",
              "      <td>8.5</td>\n",
              "      <td>2012-03-25 09:22:45+00:00</td>\n",
              "      <td>-73.986679</td>\n",
              "      <td>40.725658</td>\n",
              "      <td>-73.977066</td>\n",
              "      <td>40.754505</td>\n",
              "      <td>1</td>\n",
              "      <td>2012</td>\n",
              "      <td>3</td>\n",
              "      <td>25</td>\n",
              "      <td>6</td>\n",
              "      <td>9</td>\n",
              "      <td>3.306201</td>\n",
              "      <td>20.958735</td>\n",
              "      <td>9.024495</td>\n",
              "      <td>18.129211</td>\n",
              "      <td>3.002265</td>\n",
              "      <td>5.415720</td>\n",
              "    </tr>\n",
              "    <tr>\n",
              "      <th>1</th>\n",
              "      <td>12.9</td>\n",
              "      <td>2009-07-16 20:33:00+00:00</td>\n",
              "      <td>-73.980759</td>\n",
              "      <td>40.680557</td>\n",
              "      <td>-73.989113</td>\n",
              "      <td>40.726788</td>\n",
              "      <td>2</td>\n",
              "      <td>2009</td>\n",
              "      <td>7</td>\n",
              "      <td>16</td>\n",
              "      <td>3</td>\n",
              "      <td>20</td>\n",
              "      <td>5.185302</td>\n",
              "      <td>20.160040</td>\n",
              "      <td>11.176340</td>\n",
              "      <td>16.157242</td>\n",
              "      <td>6.240120</td>\n",
              "      <td>2.356164</td>\n",
              "    </tr>\n",
              "    <tr>\n",
              "      <th>2</th>\n",
              "      <td>4.0</td>\n",
              "      <td>2014-02-22 18:41:34+00:00</td>\n",
              "      <td>-73.990364</td>\n",
              "      <td>40.757343</td>\n",
              "      <td>-73.985374</td>\n",
              "      <td>40.760605</td>\n",
              "      <td>1</td>\n",
              "      <td>2014</td>\n",
              "      <td>2</td>\n",
              "      <td>22</td>\n",
              "      <td>5</td>\n",
              "      <td>18</td>\n",
              "      <td>0.554520</td>\n",
              "      <td>21.924940</td>\n",
              "      <td>9.546513</td>\n",
              "      <td>17.779884</td>\n",
              "      <td>2.800522</td>\n",
              "      <td>5.720479</td>\n",
              "    </tr>\n",
              "    <tr>\n",
              "      <th>3</th>\n",
              "      <td>9.7</td>\n",
              "      <td>2012-07-10 13:13:07+00:00</td>\n",
              "      <td>-73.991005</td>\n",
              "      <td>40.733334</td>\n",
              "      <td>-73.987000</td>\n",
              "      <td>40.747791</td>\n",
              "      <td>1</td>\n",
              "      <td>2012</td>\n",
              "      <td>7</td>\n",
              "      <td>10</td>\n",
              "      <td>1</td>\n",
              "      <td>13</td>\n",
              "      <td>1.641773</td>\n",
              "      <td>21.209339</td>\n",
              "      <td>10.045919</td>\n",
              "      <td>17.069136</td>\n",
              "      <td>4.043235</td>\n",
              "      <td>4.360438</td>\n",
              "    </tr>\n",
              "    <tr>\n",
              "      <th>4</th>\n",
              "      <td>4.0</td>\n",
              "      <td>2014-01-18 23:03:00+00:00</td>\n",
              "      <td>-74.005432</td>\n",
              "      <td>40.736958</td>\n",
              "      <td>-73.998642</td>\n",
              "      <td>40.744995</td>\n",
              "      <td>1</td>\n",
              "      <td>2014</td>\n",
              "      <td>1</td>\n",
              "      <td>18</td>\n",
              "      <td>5</td>\n",
              "      <td>23</td>\n",
              "      <td>1.060889</td>\n",
              "      <td>21.864847</td>\n",
              "      <td>11.073668</td>\n",
              "      <td>16.044769</td>\n",
              "      <td>4.848884</td>\n",
              "      <td>3.722812</td>\n",
              "    </tr>\n",
              "  </tbody>\n",
              "</table>\n",
              "</div>\n",
              "    <div class=\"colab-df-buttons\">\n",
              "\n",
              "  <div class=\"colab-df-container\">\n",
              "    <button class=\"colab-df-convert\" onclick=\"convertToInteractive('df-15be6a06-09c3-4cb6-8f84-d66cf68785ca')\"\n",
              "            title=\"Convert this dataframe to an interactive table.\"\n",
              "            style=\"display:none;\">\n",
              "\n",
              "  <svg xmlns=\"http://www.w3.org/2000/svg\" height=\"24px\" viewBox=\"0 -960 960 960\">\n",
              "    <path d=\"M120-120v-720h720v720H120Zm60-500h600v-160H180v160Zm220 220h160v-160H400v160Zm0 220h160v-160H400v160ZM180-400h160v-160H180v160Zm440 0h160v-160H620v160ZM180-180h160v-160H180v160Zm440 0h160v-160H620v160Z\"/>\n",
              "  </svg>\n",
              "    </button>\n",
              "\n",
              "  <style>\n",
              "    .colab-df-container {\n",
              "      display:flex;\n",
              "      gap: 12px;\n",
              "    }\n",
              "\n",
              "    .colab-df-convert {\n",
              "      background-color: #E8F0FE;\n",
              "      border: none;\n",
              "      border-radius: 50%;\n",
              "      cursor: pointer;\n",
              "      display: none;\n",
              "      fill: #1967D2;\n",
              "      height: 32px;\n",
              "      padding: 0 0 0 0;\n",
              "      width: 32px;\n",
              "    }\n",
              "\n",
              "    .colab-df-convert:hover {\n",
              "      background-color: #E2EBFA;\n",
              "      box-shadow: 0px 1px 2px rgba(60, 64, 67, 0.3), 0px 1px 3px 1px rgba(60, 64, 67, 0.15);\n",
              "      fill: #174EA6;\n",
              "    }\n",
              "\n",
              "    .colab-df-buttons div {\n",
              "      margin-bottom: 4px;\n",
              "    }\n",
              "\n",
              "    [theme=dark] .colab-df-convert {\n",
              "      background-color: #3B4455;\n",
              "      fill: #D2E3FC;\n",
              "    }\n",
              "\n",
              "    [theme=dark] .colab-df-convert:hover {\n",
              "      background-color: #434B5C;\n",
              "      box-shadow: 0px 1px 3px 1px rgba(0, 0, 0, 0.15);\n",
              "      filter: drop-shadow(0px 1px 2px rgba(0, 0, 0, 0.3));\n",
              "      fill: #FFFFFF;\n",
              "    }\n",
              "  </style>\n",
              "\n",
              "    <script>\n",
              "      const buttonEl =\n",
              "        document.querySelector('#df-15be6a06-09c3-4cb6-8f84-d66cf68785ca button.colab-df-convert');\n",
              "      buttonEl.style.display =\n",
              "        google.colab.kernel.accessAllowed ? 'block' : 'none';\n",
              "\n",
              "      async function convertToInteractive(key) {\n",
              "        const element = document.querySelector('#df-15be6a06-09c3-4cb6-8f84-d66cf68785ca');\n",
              "        const dataTable =\n",
              "          await google.colab.kernel.invokeFunction('convertToInteractive',\n",
              "                                                    [key], {});\n",
              "        if (!dataTable) return;\n",
              "\n",
              "        const docLinkHtml = 'Like what you see? Visit the ' +\n",
              "          '<a target=\"_blank\" href=https://colab.research.google.com/notebooks/data_table.ipynb>data table notebook</a>'\n",
              "          + ' to learn more about interactive tables.';\n",
              "        element.innerHTML = '';\n",
              "        dataTable['output_type'] = 'display_data';\n",
              "        await google.colab.output.renderOutput(dataTable, element);\n",
              "        const docLink = document.createElement('div');\n",
              "        docLink.innerHTML = docLinkHtml;\n",
              "        element.appendChild(docLink);\n",
              "      }\n",
              "    </script>\n",
              "  </div>\n",
              "\n",
              "\n",
              "<div id=\"df-6f91f3b9-3ed8-4fbb-a2c1-7fb3500ec8f0\">\n",
              "  <button class=\"colab-df-quickchart\" onclick=\"quickchart('df-6f91f3b9-3ed8-4fbb-a2c1-7fb3500ec8f0')\"\n",
              "            title=\"Suggest charts\"\n",
              "            style=\"display:none;\">\n",
              "\n",
              "<svg xmlns=\"http://www.w3.org/2000/svg\" height=\"24px\"viewBox=\"0 0 24 24\"\n",
              "     width=\"24px\">\n",
              "    <g>\n",
              "        <path d=\"M19 3H5c-1.1 0-2 .9-2 2v14c0 1.1.9 2 2 2h14c1.1 0 2-.9 2-2V5c0-1.1-.9-2-2-2zM9 17H7v-7h2v7zm4 0h-2V7h2v10zm4 0h-2v-4h2v4z\"/>\n",
              "    </g>\n",
              "</svg>\n",
              "  </button>\n",
              "\n",
              "<style>\n",
              "  .colab-df-quickchart {\n",
              "      --bg-color: #E8F0FE;\n",
              "      --fill-color: #1967D2;\n",
              "      --hover-bg-color: #E2EBFA;\n",
              "      --hover-fill-color: #174EA6;\n",
              "      --disabled-fill-color: #AAA;\n",
              "      --disabled-bg-color: #DDD;\n",
              "  }\n",
              "\n",
              "  [theme=dark] .colab-df-quickchart {\n",
              "      --bg-color: #3B4455;\n",
              "      --fill-color: #D2E3FC;\n",
              "      --hover-bg-color: #434B5C;\n",
              "      --hover-fill-color: #FFFFFF;\n",
              "      --disabled-bg-color: #3B4455;\n",
              "      --disabled-fill-color: #666;\n",
              "  }\n",
              "\n",
              "  .colab-df-quickchart {\n",
              "    background-color: var(--bg-color);\n",
              "    border: none;\n",
              "    border-radius: 50%;\n",
              "    cursor: pointer;\n",
              "    display: none;\n",
              "    fill: var(--fill-color);\n",
              "    height: 32px;\n",
              "    padding: 0;\n",
              "    width: 32px;\n",
              "  }\n",
              "\n",
              "  .colab-df-quickchart:hover {\n",
              "    background-color: var(--hover-bg-color);\n",
              "    box-shadow: 0 1px 2px rgba(60, 64, 67, 0.3), 0 1px 3px 1px rgba(60, 64, 67, 0.15);\n",
              "    fill: var(--button-hover-fill-color);\n",
              "  }\n",
              "\n",
              "  .colab-df-quickchart-complete:disabled,\n",
              "  .colab-df-quickchart-complete:disabled:hover {\n",
              "    background-color: var(--disabled-bg-color);\n",
              "    fill: var(--disabled-fill-color);\n",
              "    box-shadow: none;\n",
              "  }\n",
              "\n",
              "  .colab-df-spinner {\n",
              "    border: 2px solid var(--fill-color);\n",
              "    border-color: transparent;\n",
              "    border-bottom-color: var(--fill-color);\n",
              "    animation:\n",
              "      spin 1s steps(1) infinite;\n",
              "  }\n",
              "\n",
              "  @keyframes spin {\n",
              "    0% {\n",
              "      border-color: transparent;\n",
              "      border-bottom-color: var(--fill-color);\n",
              "      border-left-color: var(--fill-color);\n",
              "    }\n",
              "    20% {\n",
              "      border-color: transparent;\n",
              "      border-left-color: var(--fill-color);\n",
              "      border-top-color: var(--fill-color);\n",
              "    }\n",
              "    30% {\n",
              "      border-color: transparent;\n",
              "      border-left-color: var(--fill-color);\n",
              "      border-top-color: var(--fill-color);\n",
              "      border-right-color: var(--fill-color);\n",
              "    }\n",
              "    40% {\n",
              "      border-color: transparent;\n",
              "      border-right-color: var(--fill-color);\n",
              "      border-top-color: var(--fill-color);\n",
              "    }\n",
              "    60% {\n",
              "      border-color: transparent;\n",
              "      border-right-color: var(--fill-color);\n",
              "    }\n",
              "    80% {\n",
              "      border-color: transparent;\n",
              "      border-right-color: var(--fill-color);\n",
              "      border-bottom-color: var(--fill-color);\n",
              "    }\n",
              "    90% {\n",
              "      border-color: transparent;\n",
              "      border-bottom-color: var(--fill-color);\n",
              "    }\n",
              "  }\n",
              "</style>\n",
              "\n",
              "  <script>\n",
              "    async function quickchart(key) {\n",
              "      const quickchartButtonEl =\n",
              "        document.querySelector('#' + key + ' button');\n",
              "      quickchartButtonEl.disabled = true;  // To prevent multiple clicks.\n",
              "      quickchartButtonEl.classList.add('colab-df-spinner');\n",
              "      try {\n",
              "        const charts = await google.colab.kernel.invokeFunction(\n",
              "            'suggestCharts', [key], {});\n",
              "      } catch (error) {\n",
              "        console.error('Error during call to suggestCharts:', error);\n",
              "      }\n",
              "      quickchartButtonEl.classList.remove('colab-df-spinner');\n",
              "      quickchartButtonEl.classList.add('colab-df-quickchart-complete');\n",
              "    }\n",
              "    (() => {\n",
              "      let quickchartButtonEl =\n",
              "        document.querySelector('#df-6f91f3b9-3ed8-4fbb-a2c1-7fb3500ec8f0 button');\n",
              "      quickchartButtonEl.style.display =\n",
              "        google.colab.kernel.accessAllowed ? 'block' : 'none';\n",
              "    })();\n",
              "  </script>\n",
              "</div>\n",
              "    </div>\n",
              "  </div>\n"
            ],
            "application/vnd.google.colaboratory.intrinsic+json": {
              "type": "dataframe",
              "variable_name": "train_ds"
            }
          },
          "metadata": {},
          "execution_count": 54
        }
      ]
    },
    {
      "cell_type": "markdown",
      "source": [
        "### Remove Outliers and Invalid Data\n",
        "\n",
        "There seems to be some invalide data in each of the following columns:\n",
        "\n",
        "- Fare amount\n",
        "- Passenger count\n",
        "- Pickup latitude & longitude\n",
        "- Drop latitude & longitude\n",
        "\n",
        "\n",
        "We'll use the following ranges:\n",
        "\n",
        "- `fare_amount`: \\$1 to \\$500\n",
        "- `longitudes`: -75 to -72\n",
        "- `latitudes`: 40 to 42\n",
        "- `passenger_count`: 1 to 6"
      ],
      "metadata": {
        "id": "2PyzMkvism1L"
      }
    },
    {
      "cell_type": "code",
      "source": [
        "def remove_outliers(ds):\n",
        "    return ds[(ds['fare_amount'] >= 1.) &\n",
        "              (ds['fare_amount'] <= 500.) &\n",
        "              (ds['pickup_longitude'] >= -75) &\n",
        "              (ds['pickup_longitude'] <= -72) &\n",
        "              (ds['dropoff_longitude'] >= -75) &\n",
        "              (ds['dropoff_longitude'] <= -72) &\n",
        "              (ds['pickup_latitude'] >= 40) &\n",
        "              (ds['pickup_latitude'] <= 42) &\n",
        "              (ds['dropoff_latitude'] >=40) &\n",
        "              (ds['dropoff_latitude'] <= 42) &\n",
        "              (ds['passenger_count'] >= 1) &\n",
        "              (ds['passenger_count'] <= 6)]"
      ],
      "metadata": {
        "id": "Lll29qnTsO69"
      },
      "execution_count": 55,
      "outputs": []
    },
    {
      "cell_type": "code",
      "source": [
        "train_ds = remove_outliers(train_ds)"
      ],
      "metadata": {
        "id": "sr_4AikrtAPg"
      },
      "execution_count": 56,
      "outputs": []
    },
    {
      "cell_type": "code",
      "source": [
        "val_df = remove_outliers(val_df)"
      ],
      "metadata": {
        "id": "s4SRsbz8tKNV"
      },
      "execution_count": 57,
      "outputs": []
    },
    {
      "cell_type": "markdown",
      "source": [
        "## 7. Train & Evaluate Different Models\n",
        "\n",
        "We'll train each of the following & submit predictions to Kaggle:\n",
        "\n",
        "- Linear Regression\n",
        "- Random Forests\n",
        "- Gradient Boosting\n",
        "\n",
        "Exercise: Train Ridge, SVM, KNN, Decision Tree models"
      ],
      "metadata": {
        "id": "bBnxzavi7mU0"
      }
    },
    {
      "cell_type": "code",
      "source": [
        "train_ds.columns"
      ],
      "metadata": {
        "colab": {
          "base_uri": "https://localhost:8080/"
        },
        "id": "vdKP_iuX85Rw",
        "outputId": "52aeedbc-cc60-4278-8bc0-1f4570b163eb"
      },
      "execution_count": 58,
      "outputs": [
        {
          "output_type": "execute_result",
          "data": {
            "text/plain": [
              "Index(['fare_amount', 'pickup_datetime', 'pickup_longitude', 'pickup_latitude',\n",
              "       'dropoff_longitude', 'dropoff_latitude', 'passenger_count',\n",
              "       'pickup_datetime_year', 'pickup_datetime_month', 'pickup_datetimeday',\n",
              "       'pickup_datetime_weekday', 'pickup_datetime_hour', 'trip_distance',\n",
              "       'jfk_drop_distance', 'lga_drop_distance', 'ewr_drop_distance',\n",
              "       'met_drop_distance', 'wtc_drop_distance'],\n",
              "      dtype='object')"
            ]
          },
          "metadata": {},
          "execution_count": 58
        }
      ]
    },
    {
      "cell_type": "code",
      "source": [
        "input_cols = ['pickup_longitude', 'pickup_latitude',\n",
        "       'dropoff_longitude', 'dropoff_latitude', 'passenger_count',\n",
        "       'pickup_datetime_year', 'pickup_datetime_month', 'pickup_datetimeday',\n",
        "       'pickup_datetime_weekday', 'pickup_datetime_hour', 'trip_distance',\n",
        "       'jfk_drop_distance', 'lga_drop_distance', 'ewr_drop_distance',\n",
        "       'met_drop_distance', 'wtc_drop_distance']\n",
        "\n",
        "target_col = 'fare_amount'"
      ],
      "metadata": {
        "id": "v7h3rge89Fpb"
      },
      "execution_count": 59,
      "outputs": []
    },
    {
      "cell_type": "code",
      "source": [
        "train_inputs = train_ds[input_cols]\n",
        "train_target = train_ds[target_col]"
      ],
      "metadata": {
        "id": "Bblc377H9Vh0"
      },
      "execution_count": 60,
      "outputs": []
    },
    {
      "cell_type": "code",
      "source": [
        "val_inputs = val_df[input_cols]\n",
        "val_target = val_df[target_col]"
      ],
      "metadata": {
        "id": "zseXYs9p9f9F"
      },
      "execution_count": 61,
      "outputs": []
    },
    {
      "cell_type": "code",
      "source": [
        "test_inputs = test_df[input_cols]\n",
        "test_inputs.head()"
      ],
      "metadata": {
        "colab": {
          "base_uri": "https://localhost:8080/",
          "height": 226
        },
        "id": "ZpStIiP297kF",
        "outputId": "2de73a95-9680-45d4-a304-e45196918e9a"
      },
      "execution_count": 64,
      "outputs": [
        {
          "output_type": "execute_result",
          "data": {
            "text/plain": [
              "   pickup_longitude  pickup_latitude  dropoff_longitude  dropoff_latitude  \\\n",
              "0        -73.973320        40.763805         -73.981430         40.743835   \n",
              "1        -73.986862        40.719383         -73.998886         40.739201   \n",
              "2        -73.982521        40.751259         -73.979652         40.746140   \n",
              "3        -73.981163        40.767807         -73.990448         40.751637   \n",
              "4        -73.966049        40.789776         -73.988564         40.744427   \n",
              "\n",
              "   passenger_count  pickup_datetime_year  pickup_datetime_month  \\\n",
              "0                1                  2015                      1   \n",
              "1                1                  2015                      1   \n",
              "2                1                  2011                     10   \n",
              "3                1                  2012                     12   \n",
              "4                1                  2012                     12   \n",
              "\n",
              "   pickup_datetimeday  pickup_datetime_weekday  pickup_datetime_hour  \\\n",
              "0                  27                        1                    13   \n",
              "1                  27                        1                    13   \n",
              "2                   8                        5                    11   \n",
              "3                   1                        5                    21   \n",
              "4                   1                        5                    21   \n",
              "\n",
              "   trip_distance  jfk_drop_distance  lga_drop_distance  ewr_drop_distance  \\\n",
              "0       2.321899          20.574911           9.760167          17.346842   \n",
              "1       2.423777          21.550976          11.315990          15.789623   \n",
              "2       0.618015          20.594069           9.526829          17.576965   \n",
              "3       1.959681          21.689365          10.195091          16.969650   \n",
              "4       5.383829          21.113993          10.295857          16.808367   \n",
              "\n",
              "   met_drop_distance  wtc_drop_distance  \n",
              "0           4.239343           4.218709  \n",
              "1           5.382879           3.098136  \n",
              "2           3.946721           4.514503  \n",
              "3           3.843892           4.637048  \n",
              "4           4.433764           3.967223  "
            ],
            "text/html": [
              "\n",
              "  <div id=\"df-2f3ffa9a-a612-462d-aed8-28b7575f9f64\" class=\"colab-df-container\">\n",
              "    <div>\n",
              "<style scoped>\n",
              "    .dataframe tbody tr th:only-of-type {\n",
              "        vertical-align: middle;\n",
              "    }\n",
              "\n",
              "    .dataframe tbody tr th {\n",
              "        vertical-align: top;\n",
              "    }\n",
              "\n",
              "    .dataframe thead th {\n",
              "        text-align: right;\n",
              "    }\n",
              "</style>\n",
              "<table border=\"1\" class=\"dataframe\">\n",
              "  <thead>\n",
              "    <tr style=\"text-align: right;\">\n",
              "      <th></th>\n",
              "      <th>pickup_longitude</th>\n",
              "      <th>pickup_latitude</th>\n",
              "      <th>dropoff_longitude</th>\n",
              "      <th>dropoff_latitude</th>\n",
              "      <th>passenger_count</th>\n",
              "      <th>pickup_datetime_year</th>\n",
              "      <th>pickup_datetime_month</th>\n",
              "      <th>pickup_datetimeday</th>\n",
              "      <th>pickup_datetime_weekday</th>\n",
              "      <th>pickup_datetime_hour</th>\n",
              "      <th>trip_distance</th>\n",
              "      <th>jfk_drop_distance</th>\n",
              "      <th>lga_drop_distance</th>\n",
              "      <th>ewr_drop_distance</th>\n",
              "      <th>met_drop_distance</th>\n",
              "      <th>wtc_drop_distance</th>\n",
              "    </tr>\n",
              "  </thead>\n",
              "  <tbody>\n",
              "    <tr>\n",
              "      <th>0</th>\n",
              "      <td>-73.973320</td>\n",
              "      <td>40.763805</td>\n",
              "      <td>-73.981430</td>\n",
              "      <td>40.743835</td>\n",
              "      <td>1</td>\n",
              "      <td>2015</td>\n",
              "      <td>1</td>\n",
              "      <td>27</td>\n",
              "      <td>1</td>\n",
              "      <td>13</td>\n",
              "      <td>2.321899</td>\n",
              "      <td>20.574911</td>\n",
              "      <td>9.760167</td>\n",
              "      <td>17.346842</td>\n",
              "      <td>4.239343</td>\n",
              "      <td>4.218709</td>\n",
              "    </tr>\n",
              "    <tr>\n",
              "      <th>1</th>\n",
              "      <td>-73.986862</td>\n",
              "      <td>40.719383</td>\n",
              "      <td>-73.998886</td>\n",
              "      <td>40.739201</td>\n",
              "      <td>1</td>\n",
              "      <td>2015</td>\n",
              "      <td>1</td>\n",
              "      <td>27</td>\n",
              "      <td>1</td>\n",
              "      <td>13</td>\n",
              "      <td>2.423777</td>\n",
              "      <td>21.550976</td>\n",
              "      <td>11.315990</td>\n",
              "      <td>15.789623</td>\n",
              "      <td>5.382879</td>\n",
              "      <td>3.098136</td>\n",
              "    </tr>\n",
              "    <tr>\n",
              "      <th>2</th>\n",
              "      <td>-73.982521</td>\n",
              "      <td>40.751259</td>\n",
              "      <td>-73.979652</td>\n",
              "      <td>40.746140</td>\n",
              "      <td>1</td>\n",
              "      <td>2011</td>\n",
              "      <td>10</td>\n",
              "      <td>8</td>\n",
              "      <td>5</td>\n",
              "      <td>11</td>\n",
              "      <td>0.618015</td>\n",
              "      <td>20.594069</td>\n",
              "      <td>9.526829</td>\n",
              "      <td>17.576965</td>\n",
              "      <td>3.946721</td>\n",
              "      <td>4.514503</td>\n",
              "    </tr>\n",
              "    <tr>\n",
              "      <th>3</th>\n",
              "      <td>-73.981163</td>\n",
              "      <td>40.767807</td>\n",
              "      <td>-73.990448</td>\n",
              "      <td>40.751637</td>\n",
              "      <td>1</td>\n",
              "      <td>2012</td>\n",
              "      <td>12</td>\n",
              "      <td>1</td>\n",
              "      <td>5</td>\n",
              "      <td>21</td>\n",
              "      <td>1.959681</td>\n",
              "      <td>21.689365</td>\n",
              "      <td>10.195091</td>\n",
              "      <td>16.969650</td>\n",
              "      <td>3.843892</td>\n",
              "      <td>4.637048</td>\n",
              "    </tr>\n",
              "    <tr>\n",
              "      <th>4</th>\n",
              "      <td>-73.966049</td>\n",
              "      <td>40.789776</td>\n",
              "      <td>-73.988564</td>\n",
              "      <td>40.744427</td>\n",
              "      <td>1</td>\n",
              "      <td>2012</td>\n",
              "      <td>12</td>\n",
              "      <td>1</td>\n",
              "      <td>5</td>\n",
              "      <td>21</td>\n",
              "      <td>5.383829</td>\n",
              "      <td>21.113993</td>\n",
              "      <td>10.295857</td>\n",
              "      <td>16.808367</td>\n",
              "      <td>4.433764</td>\n",
              "      <td>3.967223</td>\n",
              "    </tr>\n",
              "  </tbody>\n",
              "</table>\n",
              "</div>\n",
              "    <div class=\"colab-df-buttons\">\n",
              "\n",
              "  <div class=\"colab-df-container\">\n",
              "    <button class=\"colab-df-convert\" onclick=\"convertToInteractive('df-2f3ffa9a-a612-462d-aed8-28b7575f9f64')\"\n",
              "            title=\"Convert this dataframe to an interactive table.\"\n",
              "            style=\"display:none;\">\n",
              "\n",
              "  <svg xmlns=\"http://www.w3.org/2000/svg\" height=\"24px\" viewBox=\"0 -960 960 960\">\n",
              "    <path d=\"M120-120v-720h720v720H120Zm60-500h600v-160H180v160Zm220 220h160v-160H400v160Zm0 220h160v-160H400v160ZM180-400h160v-160H180v160Zm440 0h160v-160H620v160ZM180-180h160v-160H180v160Zm440 0h160v-160H620v160Z\"/>\n",
              "  </svg>\n",
              "    </button>\n",
              "\n",
              "  <style>\n",
              "    .colab-df-container {\n",
              "      display:flex;\n",
              "      gap: 12px;\n",
              "    }\n",
              "\n",
              "    .colab-df-convert {\n",
              "      background-color: #E8F0FE;\n",
              "      border: none;\n",
              "      border-radius: 50%;\n",
              "      cursor: pointer;\n",
              "      display: none;\n",
              "      fill: #1967D2;\n",
              "      height: 32px;\n",
              "      padding: 0 0 0 0;\n",
              "      width: 32px;\n",
              "    }\n",
              "\n",
              "    .colab-df-convert:hover {\n",
              "      background-color: #E2EBFA;\n",
              "      box-shadow: 0px 1px 2px rgba(60, 64, 67, 0.3), 0px 1px 3px 1px rgba(60, 64, 67, 0.15);\n",
              "      fill: #174EA6;\n",
              "    }\n",
              "\n",
              "    .colab-df-buttons div {\n",
              "      margin-bottom: 4px;\n",
              "    }\n",
              "\n",
              "    [theme=dark] .colab-df-convert {\n",
              "      background-color: #3B4455;\n",
              "      fill: #D2E3FC;\n",
              "    }\n",
              "\n",
              "    [theme=dark] .colab-df-convert:hover {\n",
              "      background-color: #434B5C;\n",
              "      box-shadow: 0px 1px 3px 1px rgba(0, 0, 0, 0.15);\n",
              "      filter: drop-shadow(0px 1px 2px rgba(0, 0, 0, 0.3));\n",
              "      fill: #FFFFFF;\n",
              "    }\n",
              "  </style>\n",
              "\n",
              "    <script>\n",
              "      const buttonEl =\n",
              "        document.querySelector('#df-2f3ffa9a-a612-462d-aed8-28b7575f9f64 button.colab-df-convert');\n",
              "      buttonEl.style.display =\n",
              "        google.colab.kernel.accessAllowed ? 'block' : 'none';\n",
              "\n",
              "      async function convertToInteractive(key) {\n",
              "        const element = document.querySelector('#df-2f3ffa9a-a612-462d-aed8-28b7575f9f64');\n",
              "        const dataTable =\n",
              "          await google.colab.kernel.invokeFunction('convertToInteractive',\n",
              "                                                    [key], {});\n",
              "        if (!dataTable) return;\n",
              "\n",
              "        const docLinkHtml = 'Like what you see? Visit the ' +\n",
              "          '<a target=\"_blank\" href=https://colab.research.google.com/notebooks/data_table.ipynb>data table notebook</a>'\n",
              "          + ' to learn more about interactive tables.';\n",
              "        element.innerHTML = '';\n",
              "        dataTable['output_type'] = 'display_data';\n",
              "        await google.colab.output.renderOutput(dataTable, element);\n",
              "        const docLink = document.createElement('div');\n",
              "        docLink.innerHTML = docLinkHtml;\n",
              "        element.appendChild(docLink);\n",
              "      }\n",
              "    </script>\n",
              "  </div>\n",
              "\n",
              "\n",
              "<div id=\"df-96868085-01e5-4985-a351-67cff439cf57\">\n",
              "  <button class=\"colab-df-quickchart\" onclick=\"quickchart('df-96868085-01e5-4985-a351-67cff439cf57')\"\n",
              "            title=\"Suggest charts\"\n",
              "            style=\"display:none;\">\n",
              "\n",
              "<svg xmlns=\"http://www.w3.org/2000/svg\" height=\"24px\"viewBox=\"0 0 24 24\"\n",
              "     width=\"24px\">\n",
              "    <g>\n",
              "        <path d=\"M19 3H5c-1.1 0-2 .9-2 2v14c0 1.1.9 2 2 2h14c1.1 0 2-.9 2-2V5c0-1.1-.9-2-2-2zM9 17H7v-7h2v7zm4 0h-2V7h2v10zm4 0h-2v-4h2v4z\"/>\n",
              "    </g>\n",
              "</svg>\n",
              "  </button>\n",
              "\n",
              "<style>\n",
              "  .colab-df-quickchart {\n",
              "      --bg-color: #E8F0FE;\n",
              "      --fill-color: #1967D2;\n",
              "      --hover-bg-color: #E2EBFA;\n",
              "      --hover-fill-color: #174EA6;\n",
              "      --disabled-fill-color: #AAA;\n",
              "      --disabled-bg-color: #DDD;\n",
              "  }\n",
              "\n",
              "  [theme=dark] .colab-df-quickchart {\n",
              "      --bg-color: #3B4455;\n",
              "      --fill-color: #D2E3FC;\n",
              "      --hover-bg-color: #434B5C;\n",
              "      --hover-fill-color: #FFFFFF;\n",
              "      --disabled-bg-color: #3B4455;\n",
              "      --disabled-fill-color: #666;\n",
              "  }\n",
              "\n",
              "  .colab-df-quickchart {\n",
              "    background-color: var(--bg-color);\n",
              "    border: none;\n",
              "    border-radius: 50%;\n",
              "    cursor: pointer;\n",
              "    display: none;\n",
              "    fill: var(--fill-color);\n",
              "    height: 32px;\n",
              "    padding: 0;\n",
              "    width: 32px;\n",
              "  }\n",
              "\n",
              "  .colab-df-quickchart:hover {\n",
              "    background-color: var(--hover-bg-color);\n",
              "    box-shadow: 0 1px 2px rgba(60, 64, 67, 0.3), 0 1px 3px 1px rgba(60, 64, 67, 0.15);\n",
              "    fill: var(--button-hover-fill-color);\n",
              "  }\n",
              "\n",
              "  .colab-df-quickchart-complete:disabled,\n",
              "  .colab-df-quickchart-complete:disabled:hover {\n",
              "    background-color: var(--disabled-bg-color);\n",
              "    fill: var(--disabled-fill-color);\n",
              "    box-shadow: none;\n",
              "  }\n",
              "\n",
              "  .colab-df-spinner {\n",
              "    border: 2px solid var(--fill-color);\n",
              "    border-color: transparent;\n",
              "    border-bottom-color: var(--fill-color);\n",
              "    animation:\n",
              "      spin 1s steps(1) infinite;\n",
              "  }\n",
              "\n",
              "  @keyframes spin {\n",
              "    0% {\n",
              "      border-color: transparent;\n",
              "      border-bottom-color: var(--fill-color);\n",
              "      border-left-color: var(--fill-color);\n",
              "    }\n",
              "    20% {\n",
              "      border-color: transparent;\n",
              "      border-left-color: var(--fill-color);\n",
              "      border-top-color: var(--fill-color);\n",
              "    }\n",
              "    30% {\n",
              "      border-color: transparent;\n",
              "      border-left-color: var(--fill-color);\n",
              "      border-top-color: var(--fill-color);\n",
              "      border-right-color: var(--fill-color);\n",
              "    }\n",
              "    40% {\n",
              "      border-color: transparent;\n",
              "      border-right-color: var(--fill-color);\n",
              "      border-top-color: var(--fill-color);\n",
              "    }\n",
              "    60% {\n",
              "      border-color: transparent;\n",
              "      border-right-color: var(--fill-color);\n",
              "    }\n",
              "    80% {\n",
              "      border-color: transparent;\n",
              "      border-right-color: var(--fill-color);\n",
              "      border-bottom-color: var(--fill-color);\n",
              "    }\n",
              "    90% {\n",
              "      border-color: transparent;\n",
              "      border-bottom-color: var(--fill-color);\n",
              "    }\n",
              "  }\n",
              "</style>\n",
              "\n",
              "  <script>\n",
              "    async function quickchart(key) {\n",
              "      const quickchartButtonEl =\n",
              "        document.querySelector('#' + key + ' button');\n",
              "      quickchartButtonEl.disabled = true;  // To prevent multiple clicks.\n",
              "      quickchartButtonEl.classList.add('colab-df-spinner');\n",
              "      try {\n",
              "        const charts = await google.colab.kernel.invokeFunction(\n",
              "            'suggestCharts', [key], {});\n",
              "      } catch (error) {\n",
              "        console.error('Error during call to suggestCharts:', error);\n",
              "      }\n",
              "      quickchartButtonEl.classList.remove('colab-df-spinner');\n",
              "      quickchartButtonEl.classList.add('colab-df-quickchart-complete');\n",
              "    }\n",
              "    (() => {\n",
              "      let quickchartButtonEl =\n",
              "        document.querySelector('#df-96868085-01e5-4985-a351-67cff439cf57 button');\n",
              "      quickchartButtonEl.style.display =\n",
              "        google.colab.kernel.accessAllowed ? 'block' : 'none';\n",
              "    })();\n",
              "  </script>\n",
              "</div>\n",
              "    </div>\n",
              "  </div>\n"
            ],
            "application/vnd.google.colaboratory.intrinsic+json": {
              "type": "dataframe",
              "variable_name": "test_inputs",
              "summary": "{\n  \"name\": \"test_inputs\",\n  \"rows\": 9914,\n  \"fields\": [\n    {\n      \"column\": \"pickup_longitude\",\n      \"properties\": {\n        \"dtype\": \"float32\",\n        \"num_unique_values\": 5894,\n        \"samples\": [\n          -74.0028076171875,\n          -74.0020523071289,\n          -73.99974060058594\n        ],\n        \"semantic_type\": \"\",\n        \"description\": \"\"\n      }\n    },\n    {\n      \"column\": \"pickup_latitude\",\n      \"properties\": {\n        \"dtype\": \"float32\",\n        \"num_unique_values\": 7857,\n        \"samples\": [\n          40.753414154052734,\n          40.73805236816406,\n          40.7579231262207\n        ],\n        \"semantic_type\": \"\",\n        \"description\": \"\"\n      }\n    },\n    {\n      \"column\": \"dropoff_longitude\",\n      \"properties\": {\n        \"dtype\": \"float32\",\n        \"num_unique_values\": 6174,\n        \"samples\": [\n          -73.97686767578125,\n          -73.97747802734375,\n          -73.78315734863281\n        ],\n        \"semantic_type\": \"\",\n        \"description\": \"\"\n      }\n    },\n    {\n      \"column\": \"dropoff_latitude\",\n      \"properties\": {\n        \"dtype\": \"float32\",\n        \"num_unique_values\": 8124,\n        \"samples\": [\n          40.76008224487305,\n          40.713375091552734,\n          40.7858772277832\n        ],\n        \"semantic_type\": \"\",\n        \"description\": \"\"\n      }\n    },\n    {\n      \"column\": \"passenger_count\",\n      \"properties\": {\n        \"dtype\": \"uint8\",\n        \"num_unique_values\": 6,\n        \"samples\": [\n          1,\n          2,\n          6\n        ],\n        \"semantic_type\": \"\",\n        \"description\": \"\"\n      }\n    },\n    {\n      \"column\": \"pickup_datetime_year\",\n      \"properties\": {\n        \"dtype\": \"number\",\n        \"std\": 1,\n        \"min\": 2009,\n        \"max\": 2015,\n        \"num_unique_values\": 7,\n        \"samples\": [\n          2015,\n          2011,\n          2013\n        ],\n        \"semantic_type\": \"\",\n        \"description\": \"\"\n      }\n    },\n    {\n      \"column\": \"pickup_datetime_month\",\n      \"properties\": {\n        \"dtype\": \"number\",\n        \"std\": 3,\n        \"min\": 1,\n        \"max\": 12,\n        \"num_unique_values\": 12,\n        \"samples\": [\n          4,\n          9,\n          1\n        ],\n        \"semantic_type\": \"\",\n        \"description\": \"\"\n      }\n    },\n    {\n      \"column\": \"pickup_datetimeday\",\n      \"properties\": {\n        \"dtype\": \"number\",\n        \"std\": 8,\n        \"min\": 1,\n        \"max\": 31,\n        \"num_unique_values\": 31,\n        \"samples\": [\n          26,\n          9,\n          5\n        ],\n        \"semantic_type\": \"\",\n        \"description\": \"\"\n      }\n    },\n    {\n      \"column\": \"pickup_datetime_weekday\",\n      \"properties\": {\n        \"dtype\": \"number\",\n        \"std\": 1,\n        \"min\": 0,\n        \"max\": 6,\n        \"num_unique_values\": 7,\n        \"samples\": [\n          1,\n          5,\n          2\n        ],\n        \"semantic_type\": \"\",\n        \"description\": \"\"\n      }\n    },\n    {\n      \"column\": \"pickup_datetime_hour\",\n      \"properties\": {\n        \"dtype\": \"number\",\n        \"std\": 6,\n        \"min\": 0,\n        \"max\": 23,\n        \"num_unique_values\": 24,\n        \"samples\": [\n          2,\n          10,\n          13\n        ],\n        \"semantic_type\": \"\",\n        \"description\": \"\"\n      }\n    },\n    {\n      \"column\": \"trip_distance\",\n      \"properties\": {\n        \"dtype\": \"float32\",\n        \"num_unique_values\": 9829,\n        \"samples\": [\n          6.724156379699707,\n          1.879624366760254,\n          1.7232698202133179\n        ],\n        \"semantic_type\": \"\",\n        \"description\": \"\"\n      }\n    },\n    {\n      \"column\": \"jfk_drop_distance\",\n      \"properties\": {\n        \"dtype\": \"float32\",\n        \"num_unique_values\": 9886,\n        \"samples\": [\n          21.34018325805664,\n          19.253263473510742,\n          21.15882682800293\n        ],\n        \"semantic_type\": \"\",\n        \"description\": \"\"\n      }\n    },\n    {\n      \"column\": \"lga_drop_distance\",\n      \"properties\": {\n        \"dtype\": \"float32\",\n        \"num_unique_values\": 9898,\n        \"samples\": [\n          8.701777458190918,\n          11.139864921569824,\n          10.404654502868652\n        ],\n        \"semantic_type\": \"\",\n        \"description\": \"\"\n      }\n    },\n    {\n      \"column\": \"ewr_drop_distance\",\n      \"properties\": {\n        \"dtype\": \"float32\",\n        \"num_unique_values\": 9896,\n        \"samples\": [\n          16.612215042114258,\n          18.491918563842773,\n          17.00058364868164\n        ],\n        \"semantic_type\": \"\",\n        \"description\": \"\"\n      }\n    },\n    {\n      \"column\": \"met_drop_distance\",\n      \"properties\": {\n        \"dtype\": \"float32\",\n        \"num_unique_values\": 9907,\n        \"samples\": [\n          2.1433680057525635,\n          10.276105880737305,\n          2.584141254425049\n        ],\n        \"semantic_type\": \"\",\n        \"description\": \"\"\n      }\n    },\n    {\n      \"column\": \"wtc_drop_distance\",\n      \"properties\": {\n        \"dtype\": \"float32\",\n        \"num_unique_values\": 9906,\n        \"samples\": [\n          6.800540924072266,\n          5.653459072113037,\n          4.318521976470947\n        ],\n        \"semantic_type\": \"\",\n        \"description\": \"\"\n      }\n    }\n  ]\n}"
            }
          },
          "metadata": {},
          "execution_count": 64
        }
      ]
    },
    {
      "cell_type": "code",
      "source": [
        "def evaluate_model(model):\n",
        "  train_preds = model.predict(train_inputs)\n",
        "  train_rmse = rmse(train_target, train_preds)\n",
        "  val_preds = model.predict(val_inputs)\n",
        "  val_rmse = rmse(val_target, val_preds)\n",
        "  return train_rmse, val_rmse, train_preds, val_preds"
      ],
      "metadata": {
        "id": "MvCLN-MV95dC"
      },
      "execution_count": 69,
      "outputs": []
    },
    {
      "cell_type": "code",
      "source": [
        "def evaluate_model_metrics(model):\n",
        "  train_score = model.score(train_inputs, train_target)\n",
        "  val_score = model.score(val_inputs, val_target)\n",
        "\n",
        "  return train_score, val_score"
      ],
      "metadata": {
        "id": "jlYj_WaWNcmz"
      },
      "execution_count": 107,
      "outputs": []
    },
    {
      "cell_type": "markdown",
      "source": [
        "---------------------------------------------------------------------------\n",
        "## RIDGE REGRESSION"
      ],
      "metadata": {
        "id": "2EnhzZWKE11R"
      }
    },
    {
      "cell_type": "code",
      "source": [
        "from sklearn.linear_model import Ridge\n",
        "def ridge_regression(alpha):\n",
        "  ridge_model = Ridge(random_state=8, alpha=alpha)\n",
        "  ridge_model.fit(train_inputs, train_target)\n",
        "  train_rmse, val_rmse, train_preds, val_preds = evaluate_model(ridge_model)\n",
        "\n",
        "  print(\"The RMSE for training dataset is: \", train_rmse)\n",
        "  print(\"The RMSE for validation dataset is: \", val_rmse)\n",
        "  print(\"-----------------------------------------------------------\\n\")\n",
        "  print(\"Predictions for training dataset are: \\n\", train_preds)\n",
        "  print(\"-----------------------------------------------------------\\n\")\n",
        "  print(\"Predictions for validation dataset are: \\n\", val_preds)\n",
        "\n",
        "  print(\"-----------------------------------------------------------\\n\")\n",
        "  train_score, val_score = evaluate_model_metrics(ridge_model)\n",
        "  print(\"Train dataset score: \", train_score)\n",
        "  print(\"Validation dataset score: \", val_score)\n",
        "\n",
        "  # predict on test data\n",
        "  test_preds = ridge_model.predict(test_inputs)\n",
        "  print(\"-----------------------------------------------------------\\n\")\n",
        "  print(\"Predictions for test dataset are: \\n\", test_preds)"
      ],
      "metadata": {
        "id": "lO2_mETwDNwQ"
      },
      "execution_count": 115,
      "outputs": []
    },
    {
      "cell_type": "code",
      "source": [
        "ridge_regression(0.8)"
      ],
      "metadata": {
        "colab": {
          "base_uri": "https://localhost:8080/"
        },
        "id": "3CFSjjhhEp4Q",
        "outputId": "3498c0da-362d-4028-878c-c522b983e036"
      },
      "execution_count": 116,
      "outputs": [
        {
          "output_type": "stream",
          "name": "stdout",
          "text": [
            "The RMSE for training dataset is:  5.246131853884653\n",
            "The RMSE for validation dataset is:  5.155613745395518\n",
            "-----------------------------------------------------------\n",
            "\n",
            "Predictions for training dataset are: \n",
            " [10.47759894 13.84739549  6.52853133 ...  8.34081656 12.34794325\n",
            " 12.93271625]\n",
            "-----------------------------------------------------------\n",
            "\n",
            "Predictions for validation dataset are: \n",
            " [ 4.74031108 12.29895367 27.71814394 ...  6.01143214 14.70602713\n",
            " 20.44239657]\n",
            "-----------------------------------------------------------\n",
            "\n",
            "Train dataset score:  0.7059962179900492\n",
            "Validation dataset score:  0.7090483094061852\n",
            "-----------------------------------------------------------\n",
            "\n",
            "Predictions for test dataset are: \n",
            " [10.14843198 11.49244385  5.54210768 ... 47.32475444 22.27505766\n",
            "  9.14263889]\n"
          ]
        }
      ]
    },
    {
      "cell_type": "markdown",
      "source": [
        "## Results of Ridge Regression:\n",
        "\n",
        "As we can see above that the\n",
        "1. RMSE for `train_dataset = 5.246131853884653`\n",
        "2. RMSE for `val_dataset = 5.155613745395518`\n",
        "\n",
        "## Accuracy:\n",
        "1. Train dataset score:  `0.7059962179900492`\n",
        "2. Validation dataset score:  `0.7090483094061852`\n",
        "\n",
        "\n",
        "The above accuracy and RMSE is much better than the baseline model that we created.\n",
        "\n",
        "\n"
      ],
      "metadata": {
        "id": "fYmpTKfyVIx_"
      }
    },
    {
      "cell_type": "markdown",
      "source": [
        "-------------------------------------------------------------------\n",
        "## RANDOM FOREST"
      ],
      "metadata": {
        "id": "MHVan6yFE8l5"
      }
    },
    {
      "cell_type": "code",
      "source": [
        "from sklearn.ensemble import RandomForestRegressor\n",
        "def random_forest(max_depth, n_estimators):\n",
        "  rf_model = RandomForestRegressor(random_state=8, n_jobs=-1, max_depth=max_depth, n_estimators=n_estimators)\n",
        "  rf_model.fit(train_inputs, train_target)\n",
        "\n",
        "  train_rmse, val_rmse, train_preds, val_preds = evaluate_model(rf_model)\n",
        "  print(\"The RMSE for training dataset is: \", train_rmse)\n",
        "  print(\"The RMSE for validation dataset is: \", val_rmse)\n",
        "\n",
        "  print(\"-----------------------------------------------------------\\n\")\n",
        "  print(\"Predictions for training dataset are: \\n\", train_preds)\n",
        "\n",
        "  print(\"-----------------------------------------------------------\\n\")\n",
        "  print(\"Predictions for validation dataset are: \\n\", val_preds)\n",
        "\n",
        "  train_score, val_score = evaluate_model_metrics(rf_model)\n",
        "  print(\"Train dataset score: \", train_score)\n",
        "  print(\"Validation dataset score: \", val_score)\n",
        "\n",
        "  # predict on test data\n",
        "  test_preds = rf_model.predict(test_inputs)\n",
        "  print(\"-----------------------------------------------------------\\n\")\n",
        "  print(\"Predictions for test dataset are: \\n\", test_preds)"
      ],
      "metadata": {
        "id": "suV1cvdmEt34"
      },
      "execution_count": 120,
      "outputs": []
    },
    {
      "cell_type": "code",
      "source": [
        "random_forest(10, 50)"
      ],
      "metadata": {
        "colab": {
          "base_uri": "https://localhost:8080/",
          "height": 686
        },
        "id": "QvVBEXeTRm-q",
        "outputId": "3ddfebbe-8c02-4c29-a5b2-8f8ce63d652e"
      },
      "execution_count": 121,
      "outputs": [
        {
          "output_type": "stream",
          "name": "stdout",
          "text": [
            "The RMSE for training dataset is:  3.653980451528581\n",
            "The RMSE for validation dataset is:  3.646048926699294\n",
            "-----------------------------------------------------------\n",
            "\n",
            "Predictions for training dataset are: \n",
            " [10.17363158 13.74625213  5.10990187 ...  9.0421932  14.16669307\n",
            " 13.62496878]\n",
            "-----------------------------------------------------------\n",
            "\n",
            "Predictions for validation dataset are: \n",
            " [ 4.8776264  11.10075099 30.3818388  ...  5.10990187 18.23924426\n",
            " 15.68748861]\n",
            "Train dataset score:  0.8573712904805945\n",
            "Validation dataset score:  0.8544858845554287\n",
            "-----------------------------------------------------------\n",
            "\n",
            "Predictions for test dataset are: \n",
            " [10.72852293 10.78620383  5.06933965 ... 55.27381741 21.88656283\n",
            "  6.97351737]\n"
          ]
        },
        {
          "output_type": "error",
          "ename": "KeyboardInterrupt",
          "evalue": "",
          "traceback": [
            "\u001b[0;31m---------------------------------------------------------------------------\u001b[0m",
            "\u001b[0;31mKeyboardInterrupt\u001b[0m                         Traceback (most recent call last)",
            "\u001b[0;32m<ipython-input-121-a4edddc89b48>\u001b[0m in \u001b[0;36m<cell line: 1>\u001b[0;34m()\u001b[0m\n\u001b[0;32m----> 1\u001b[0;31m \u001b[0mget_ipython\u001b[0m\u001b[0;34m(\u001b[0m\u001b[0;34m)\u001b[0m\u001b[0;34m.\u001b[0m\u001b[0mrun_cell_magic\u001b[0m\u001b[0;34m(\u001b[0m\u001b[0;34m'timeit'\u001b[0m\u001b[0;34m,\u001b[0m \u001b[0;34m''\u001b[0m\u001b[0;34m,\u001b[0m \u001b[0;34m'random_forest(10, 50)\\n'\u001b[0m\u001b[0;34m)\u001b[0m\u001b[0;34m\u001b[0m\u001b[0;34m\u001b[0m\u001b[0m\n\u001b[0m",
            "\u001b[0;32m/usr/local/lib/python3.10/dist-packages/google/colab/_shell.py\u001b[0m in \u001b[0;36mrun_cell_magic\u001b[0;34m(self, magic_name, line, cell)\u001b[0m\n\u001b[1;32m    332\u001b[0m     \u001b[0;32mif\u001b[0m \u001b[0mline\u001b[0m \u001b[0;32mand\u001b[0m \u001b[0;32mnot\u001b[0m \u001b[0mcell\u001b[0m\u001b[0;34m:\u001b[0m\u001b[0;34m\u001b[0m\u001b[0;34m\u001b[0m\u001b[0m\n\u001b[1;32m    333\u001b[0m       \u001b[0mcell\u001b[0m \u001b[0;34m=\u001b[0m \u001b[0;34m' '\u001b[0m\u001b[0;34m\u001b[0m\u001b[0;34m\u001b[0m\u001b[0m\n\u001b[0;32m--> 334\u001b[0;31m     \u001b[0;32mreturn\u001b[0m \u001b[0msuper\u001b[0m\u001b[0;34m(\u001b[0m\u001b[0;34m)\u001b[0m\u001b[0;34m.\u001b[0m\u001b[0mrun_cell_magic\u001b[0m\u001b[0;34m(\u001b[0m\u001b[0mmagic_name\u001b[0m\u001b[0;34m,\u001b[0m \u001b[0mline\u001b[0m\u001b[0;34m,\u001b[0m \u001b[0mcell\u001b[0m\u001b[0;34m)\u001b[0m\u001b[0;34m\u001b[0m\u001b[0;34m\u001b[0m\u001b[0m\n\u001b[0m\u001b[1;32m    335\u001b[0m \u001b[0;34m\u001b[0m\u001b[0m\n\u001b[1;32m    336\u001b[0m \u001b[0;34m\u001b[0m\u001b[0m\n",
            "\u001b[0;32m/usr/local/lib/python3.10/dist-packages/IPython/core/interactiveshell.py\u001b[0m in \u001b[0;36mrun_cell_magic\u001b[0;34m(self, magic_name, line, cell)\u001b[0m\n\u001b[1;32m   2471\u001b[0m             \u001b[0;32mwith\u001b[0m \u001b[0mself\u001b[0m\u001b[0;34m.\u001b[0m\u001b[0mbuiltin_trap\u001b[0m\u001b[0;34m:\u001b[0m\u001b[0;34m\u001b[0m\u001b[0;34m\u001b[0m\u001b[0m\n\u001b[1;32m   2472\u001b[0m                 \u001b[0margs\u001b[0m \u001b[0;34m=\u001b[0m \u001b[0;34m(\u001b[0m\u001b[0mmagic_arg_s\u001b[0m\u001b[0;34m,\u001b[0m \u001b[0mcell\u001b[0m\u001b[0;34m)\u001b[0m\u001b[0;34m\u001b[0m\u001b[0;34m\u001b[0m\u001b[0m\n\u001b[0;32m-> 2473\u001b[0;31m                 \u001b[0mresult\u001b[0m \u001b[0;34m=\u001b[0m \u001b[0mfn\u001b[0m\u001b[0;34m(\u001b[0m\u001b[0;34m*\u001b[0m\u001b[0margs\u001b[0m\u001b[0;34m,\u001b[0m \u001b[0;34m**\u001b[0m\u001b[0mkwargs\u001b[0m\u001b[0;34m)\u001b[0m\u001b[0;34m\u001b[0m\u001b[0;34m\u001b[0m\u001b[0m\n\u001b[0m\u001b[1;32m   2474\u001b[0m             \u001b[0;32mreturn\u001b[0m \u001b[0mresult\u001b[0m\u001b[0;34m\u001b[0m\u001b[0;34m\u001b[0m\u001b[0m\n\u001b[1;32m   2475\u001b[0m \u001b[0;34m\u001b[0m\u001b[0m\n",
            "\u001b[0;32m<decorator-gen-53>\u001b[0m in \u001b[0;36mtimeit\u001b[0;34m(self, line, cell, local_ns)\u001b[0m\n",
            "\u001b[0;32m/usr/local/lib/python3.10/dist-packages/IPython/core/magic.py\u001b[0m in \u001b[0;36m<lambda>\u001b[0;34m(f, *a, **k)\u001b[0m\n\u001b[1;32m    185\u001b[0m     \u001b[0;31m# but it's overkill for just that one bit of state.\u001b[0m\u001b[0;34m\u001b[0m\u001b[0;34m\u001b[0m\u001b[0m\n\u001b[1;32m    186\u001b[0m     \u001b[0;32mdef\u001b[0m \u001b[0mmagic_deco\u001b[0m\u001b[0;34m(\u001b[0m\u001b[0marg\u001b[0m\u001b[0;34m)\u001b[0m\u001b[0;34m:\u001b[0m\u001b[0;34m\u001b[0m\u001b[0;34m\u001b[0m\u001b[0m\n\u001b[0;32m--> 187\u001b[0;31m         \u001b[0mcall\u001b[0m \u001b[0;34m=\u001b[0m \u001b[0;32mlambda\u001b[0m \u001b[0mf\u001b[0m\u001b[0;34m,\u001b[0m \u001b[0;34m*\u001b[0m\u001b[0ma\u001b[0m\u001b[0;34m,\u001b[0m \u001b[0;34m**\u001b[0m\u001b[0mk\u001b[0m\u001b[0;34m:\u001b[0m \u001b[0mf\u001b[0m\u001b[0;34m(\u001b[0m\u001b[0;34m*\u001b[0m\u001b[0ma\u001b[0m\u001b[0;34m,\u001b[0m \u001b[0;34m**\u001b[0m\u001b[0mk\u001b[0m\u001b[0;34m)\u001b[0m\u001b[0;34m\u001b[0m\u001b[0;34m\u001b[0m\u001b[0m\n\u001b[0m\u001b[1;32m    188\u001b[0m \u001b[0;34m\u001b[0m\u001b[0m\n\u001b[1;32m    189\u001b[0m         \u001b[0;32mif\u001b[0m \u001b[0mcallable\u001b[0m\u001b[0;34m(\u001b[0m\u001b[0marg\u001b[0m\u001b[0;34m)\u001b[0m\u001b[0;34m:\u001b[0m\u001b[0;34m\u001b[0m\u001b[0;34m\u001b[0m\u001b[0m\n",
            "\u001b[0;32m/usr/local/lib/python3.10/dist-packages/IPython/core/magics/execution.py\u001b[0m in \u001b[0;36mtimeit\u001b[0;34m(self, line, cell, local_ns)\u001b[0m\n\u001b[1;32m   1182\u001b[0m                     \u001b[0;32mbreak\u001b[0m\u001b[0;34m\u001b[0m\u001b[0;34m\u001b[0m\u001b[0m\n\u001b[1;32m   1183\u001b[0m \u001b[0;34m\u001b[0m\u001b[0m\n\u001b[0;32m-> 1184\u001b[0;31m         \u001b[0mall_runs\u001b[0m \u001b[0;34m=\u001b[0m \u001b[0mtimer\u001b[0m\u001b[0;34m.\u001b[0m\u001b[0mrepeat\u001b[0m\u001b[0;34m(\u001b[0m\u001b[0mrepeat\u001b[0m\u001b[0;34m,\u001b[0m \u001b[0mnumber\u001b[0m\u001b[0;34m)\u001b[0m\u001b[0;34m\u001b[0m\u001b[0;34m\u001b[0m\u001b[0m\n\u001b[0m\u001b[1;32m   1185\u001b[0m         \u001b[0mbest\u001b[0m \u001b[0;34m=\u001b[0m \u001b[0mmin\u001b[0m\u001b[0;34m(\u001b[0m\u001b[0mall_runs\u001b[0m\u001b[0;34m)\u001b[0m \u001b[0;34m/\u001b[0m \u001b[0mnumber\u001b[0m\u001b[0;34m\u001b[0m\u001b[0;34m\u001b[0m\u001b[0m\n\u001b[1;32m   1186\u001b[0m         \u001b[0mworst\u001b[0m \u001b[0;34m=\u001b[0m \u001b[0mmax\u001b[0m\u001b[0;34m(\u001b[0m\u001b[0mall_runs\u001b[0m\u001b[0;34m)\u001b[0m \u001b[0;34m/\u001b[0m \u001b[0mnumber\u001b[0m\u001b[0;34m\u001b[0m\u001b[0;34m\u001b[0m\u001b[0m\n",
            "\u001b[0;32m/usr/lib/python3.10/timeit.py\u001b[0m in \u001b[0;36mrepeat\u001b[0;34m(self, repeat, number)\u001b[0m\n\u001b[1;32m    204\u001b[0m         \u001b[0mr\u001b[0m \u001b[0;34m=\u001b[0m \u001b[0;34m[\u001b[0m\u001b[0;34m]\u001b[0m\u001b[0;34m\u001b[0m\u001b[0;34m\u001b[0m\u001b[0m\n\u001b[1;32m    205\u001b[0m         \u001b[0;32mfor\u001b[0m \u001b[0mi\u001b[0m \u001b[0;32min\u001b[0m \u001b[0mrange\u001b[0m\u001b[0;34m(\u001b[0m\u001b[0mrepeat\u001b[0m\u001b[0;34m)\u001b[0m\u001b[0;34m:\u001b[0m\u001b[0;34m\u001b[0m\u001b[0;34m\u001b[0m\u001b[0m\n\u001b[0;32m--> 206\u001b[0;31m             \u001b[0mt\u001b[0m \u001b[0;34m=\u001b[0m \u001b[0mself\u001b[0m\u001b[0;34m.\u001b[0m\u001b[0mtimeit\u001b[0m\u001b[0;34m(\u001b[0m\u001b[0mnumber\u001b[0m\u001b[0;34m)\u001b[0m\u001b[0;34m\u001b[0m\u001b[0;34m\u001b[0m\u001b[0m\n\u001b[0m\u001b[1;32m    207\u001b[0m             \u001b[0mr\u001b[0m\u001b[0;34m.\u001b[0m\u001b[0mappend\u001b[0m\u001b[0;34m(\u001b[0m\u001b[0mt\u001b[0m\u001b[0;34m)\u001b[0m\u001b[0;34m\u001b[0m\u001b[0;34m\u001b[0m\u001b[0m\n\u001b[1;32m    208\u001b[0m         \u001b[0;32mreturn\u001b[0m \u001b[0mr\u001b[0m\u001b[0;34m\u001b[0m\u001b[0;34m\u001b[0m\u001b[0m\n",
            "\u001b[0;32m/usr/local/lib/python3.10/dist-packages/IPython/core/magics/execution.py\u001b[0m in \u001b[0;36mtimeit\u001b[0;34m(self, number)\u001b[0m\n\u001b[1;32m    167\u001b[0m         \u001b[0mgc\u001b[0m\u001b[0;34m.\u001b[0m\u001b[0mdisable\u001b[0m\u001b[0;34m(\u001b[0m\u001b[0;34m)\u001b[0m\u001b[0;34m\u001b[0m\u001b[0;34m\u001b[0m\u001b[0m\n\u001b[1;32m    168\u001b[0m         \u001b[0;32mtry\u001b[0m\u001b[0;34m:\u001b[0m\u001b[0;34m\u001b[0m\u001b[0;34m\u001b[0m\u001b[0m\n\u001b[0;32m--> 169\u001b[0;31m             \u001b[0mtiming\u001b[0m \u001b[0;34m=\u001b[0m \u001b[0mself\u001b[0m\u001b[0;34m.\u001b[0m\u001b[0minner\u001b[0m\u001b[0;34m(\u001b[0m\u001b[0mit\u001b[0m\u001b[0;34m,\u001b[0m \u001b[0mself\u001b[0m\u001b[0;34m.\u001b[0m\u001b[0mtimer\u001b[0m\u001b[0;34m)\u001b[0m\u001b[0;34m\u001b[0m\u001b[0;34m\u001b[0m\u001b[0m\n\u001b[0m\u001b[1;32m    170\u001b[0m         \u001b[0;32mfinally\u001b[0m\u001b[0;34m:\u001b[0m\u001b[0;34m\u001b[0m\u001b[0;34m\u001b[0m\u001b[0m\n\u001b[1;32m    171\u001b[0m             \u001b[0;32mif\u001b[0m \u001b[0mgcold\u001b[0m\u001b[0;34m:\u001b[0m\u001b[0;34m\u001b[0m\u001b[0;34m\u001b[0m\u001b[0m\n",
            "\u001b[0;32m<magic-timeit>\u001b[0m in \u001b[0;36minner\u001b[0;34m(_it, _timer)\u001b[0m\n",
            "\u001b[0;32m<ipython-input-120-0a7eee389905>\u001b[0m in \u001b[0;36mrandom_forest\u001b[0;34m(max_depth, n_estimators)\u001b[0m\n\u001b[1;32m      2\u001b[0m \u001b[0;32mdef\u001b[0m \u001b[0mrandom_forest\u001b[0m\u001b[0;34m(\u001b[0m\u001b[0mmax_depth\u001b[0m\u001b[0;34m,\u001b[0m \u001b[0mn_estimators\u001b[0m\u001b[0;34m)\u001b[0m\u001b[0;34m:\u001b[0m\u001b[0;34m\u001b[0m\u001b[0;34m\u001b[0m\u001b[0m\n\u001b[1;32m      3\u001b[0m   \u001b[0mrf_model\u001b[0m \u001b[0;34m=\u001b[0m \u001b[0mRandomForestRegressor\u001b[0m\u001b[0;34m(\u001b[0m\u001b[0mrandom_state\u001b[0m\u001b[0;34m=\u001b[0m\u001b[0;36m8\u001b[0m\u001b[0;34m,\u001b[0m \u001b[0mn_jobs\u001b[0m\u001b[0;34m=\u001b[0m\u001b[0;34m-\u001b[0m\u001b[0;36m1\u001b[0m\u001b[0;34m,\u001b[0m \u001b[0mmax_depth\u001b[0m\u001b[0;34m=\u001b[0m\u001b[0mmax_depth\u001b[0m\u001b[0;34m,\u001b[0m \u001b[0mn_estimators\u001b[0m\u001b[0;34m=\u001b[0m\u001b[0mn_estimators\u001b[0m\u001b[0;34m)\u001b[0m\u001b[0;34m\u001b[0m\u001b[0;34m\u001b[0m\u001b[0m\n\u001b[0;32m----> 4\u001b[0;31m   \u001b[0mrf_model\u001b[0m\u001b[0;34m.\u001b[0m\u001b[0mfit\u001b[0m\u001b[0;34m(\u001b[0m\u001b[0mtrain_inputs\u001b[0m\u001b[0;34m,\u001b[0m \u001b[0mtrain_target\u001b[0m\u001b[0;34m)\u001b[0m\u001b[0;34m\u001b[0m\u001b[0;34m\u001b[0m\u001b[0m\n\u001b[0m\u001b[1;32m      5\u001b[0m \u001b[0;34m\u001b[0m\u001b[0m\n\u001b[1;32m      6\u001b[0m   \u001b[0mtrain_rmse\u001b[0m\u001b[0;34m,\u001b[0m \u001b[0mval_rmse\u001b[0m\u001b[0;34m,\u001b[0m \u001b[0mtrain_preds\u001b[0m\u001b[0;34m,\u001b[0m \u001b[0mval_preds\u001b[0m \u001b[0;34m=\u001b[0m \u001b[0mevaluate_model\u001b[0m\u001b[0;34m(\u001b[0m\u001b[0mrf_model\u001b[0m\u001b[0;34m)\u001b[0m\u001b[0;34m\u001b[0m\u001b[0;34m\u001b[0m\u001b[0m\n",
            "\u001b[0;32m/usr/local/lib/python3.10/dist-packages/sklearn/ensemble/_forest.py\u001b[0m in \u001b[0;36mfit\u001b[0;34m(self, X, y, sample_weight)\u001b[0m\n\u001b[1;32m    471\u001b[0m             \u001b[0;31m# parallel_backend contexts set at a higher level,\u001b[0m\u001b[0;34m\u001b[0m\u001b[0;34m\u001b[0m\u001b[0m\n\u001b[1;32m    472\u001b[0m             \u001b[0;31m# since correctness does not rely on using threads.\u001b[0m\u001b[0;34m\u001b[0m\u001b[0;34m\u001b[0m\u001b[0m\n\u001b[0;32m--> 473\u001b[0;31m             trees = Parallel(\n\u001b[0m\u001b[1;32m    474\u001b[0m                 \u001b[0mn_jobs\u001b[0m\u001b[0;34m=\u001b[0m\u001b[0mself\u001b[0m\u001b[0;34m.\u001b[0m\u001b[0mn_jobs\u001b[0m\u001b[0;34m,\u001b[0m\u001b[0;34m\u001b[0m\u001b[0;34m\u001b[0m\u001b[0m\n\u001b[1;32m    475\u001b[0m                 \u001b[0mverbose\u001b[0m\u001b[0;34m=\u001b[0m\u001b[0mself\u001b[0m\u001b[0;34m.\u001b[0m\u001b[0mverbose\u001b[0m\u001b[0;34m,\u001b[0m\u001b[0;34m\u001b[0m\u001b[0;34m\u001b[0m\u001b[0m\n",
            "\u001b[0;32m/usr/local/lib/python3.10/dist-packages/sklearn/utils/parallel.py\u001b[0m in \u001b[0;36m__call__\u001b[0;34m(self, iterable)\u001b[0m\n\u001b[1;32m     61\u001b[0m             \u001b[0;32mfor\u001b[0m \u001b[0mdelayed_func\u001b[0m\u001b[0;34m,\u001b[0m \u001b[0margs\u001b[0m\u001b[0;34m,\u001b[0m \u001b[0mkwargs\u001b[0m \u001b[0;32min\u001b[0m \u001b[0miterable\u001b[0m\u001b[0;34m\u001b[0m\u001b[0;34m\u001b[0m\u001b[0m\n\u001b[1;32m     62\u001b[0m         )\n\u001b[0;32m---> 63\u001b[0;31m         \u001b[0;32mreturn\u001b[0m \u001b[0msuper\u001b[0m\u001b[0;34m(\u001b[0m\u001b[0;34m)\u001b[0m\u001b[0;34m.\u001b[0m\u001b[0m__call__\u001b[0m\u001b[0;34m(\u001b[0m\u001b[0miterable_with_config\u001b[0m\u001b[0;34m)\u001b[0m\u001b[0;34m\u001b[0m\u001b[0;34m\u001b[0m\u001b[0m\n\u001b[0m\u001b[1;32m     64\u001b[0m \u001b[0;34m\u001b[0m\u001b[0m\n\u001b[1;32m     65\u001b[0m \u001b[0;34m\u001b[0m\u001b[0m\n",
            "\u001b[0;32m/usr/local/lib/python3.10/dist-packages/joblib/parallel.py\u001b[0m in \u001b[0;36m__call__\u001b[0;34m(self, iterable)\u001b[0m\n\u001b[1;32m   1950\u001b[0m         \u001b[0mnext\u001b[0m\u001b[0;34m(\u001b[0m\u001b[0moutput\u001b[0m\u001b[0;34m)\u001b[0m\u001b[0;34m\u001b[0m\u001b[0;34m\u001b[0m\u001b[0m\n\u001b[1;32m   1951\u001b[0m \u001b[0;34m\u001b[0m\u001b[0m\n\u001b[0;32m-> 1952\u001b[0;31m         \u001b[0;32mreturn\u001b[0m \u001b[0moutput\u001b[0m \u001b[0;32mif\u001b[0m \u001b[0mself\u001b[0m\u001b[0;34m.\u001b[0m\u001b[0mreturn_generator\u001b[0m \u001b[0;32melse\u001b[0m \u001b[0mlist\u001b[0m\u001b[0;34m(\u001b[0m\u001b[0moutput\u001b[0m\u001b[0;34m)\u001b[0m\u001b[0;34m\u001b[0m\u001b[0;34m\u001b[0m\u001b[0m\n\u001b[0m\u001b[1;32m   1953\u001b[0m \u001b[0;34m\u001b[0m\u001b[0m\n\u001b[1;32m   1954\u001b[0m     \u001b[0;32mdef\u001b[0m \u001b[0m__repr__\u001b[0m\u001b[0;34m(\u001b[0m\u001b[0mself\u001b[0m\u001b[0;34m)\u001b[0m\u001b[0;34m:\u001b[0m\u001b[0;34m\u001b[0m\u001b[0;34m\u001b[0m\u001b[0m\n",
            "\u001b[0;32m/usr/local/lib/python3.10/dist-packages/joblib/parallel.py\u001b[0m in \u001b[0;36m_get_outputs\u001b[0;34m(self, iterator, pre_dispatch)\u001b[0m\n\u001b[1;32m   1593\u001b[0m \u001b[0;34m\u001b[0m\u001b[0m\n\u001b[1;32m   1594\u001b[0m             \u001b[0;32mwith\u001b[0m \u001b[0mself\u001b[0m\u001b[0;34m.\u001b[0m\u001b[0m_backend\u001b[0m\u001b[0;34m.\u001b[0m\u001b[0mretrieval_context\u001b[0m\u001b[0;34m(\u001b[0m\u001b[0;34m)\u001b[0m\u001b[0;34m:\u001b[0m\u001b[0;34m\u001b[0m\u001b[0;34m\u001b[0m\u001b[0m\n\u001b[0;32m-> 1595\u001b[0;31m                 \u001b[0;32myield\u001b[0m \u001b[0;32mfrom\u001b[0m \u001b[0mself\u001b[0m\u001b[0;34m.\u001b[0m\u001b[0m_retrieve\u001b[0m\u001b[0;34m(\u001b[0m\u001b[0;34m)\u001b[0m\u001b[0;34m\u001b[0m\u001b[0;34m\u001b[0m\u001b[0m\n\u001b[0m\u001b[1;32m   1596\u001b[0m \u001b[0;34m\u001b[0m\u001b[0m\n\u001b[1;32m   1597\u001b[0m         \u001b[0;32mexcept\u001b[0m \u001b[0mGeneratorExit\u001b[0m\u001b[0;34m:\u001b[0m\u001b[0;34m\u001b[0m\u001b[0;34m\u001b[0m\u001b[0m\n",
            "\u001b[0;32m/usr/local/lib/python3.10/dist-packages/joblib/parallel.py\u001b[0m in \u001b[0;36m_retrieve\u001b[0;34m(self)\u001b[0m\n\u001b[1;32m   1705\u001b[0m                 (self._jobs[0].get_status(\n\u001b[1;32m   1706\u001b[0m                     timeout=self.timeout) == TASK_PENDING)):\n\u001b[0;32m-> 1707\u001b[0;31m                 \u001b[0mtime\u001b[0m\u001b[0;34m.\u001b[0m\u001b[0msleep\u001b[0m\u001b[0;34m(\u001b[0m\u001b[0;36m0.01\u001b[0m\u001b[0;34m)\u001b[0m\u001b[0;34m\u001b[0m\u001b[0;34m\u001b[0m\u001b[0m\n\u001b[0m\u001b[1;32m   1708\u001b[0m                 \u001b[0;32mcontinue\u001b[0m\u001b[0;34m\u001b[0m\u001b[0;34m\u001b[0m\u001b[0m\n\u001b[1;32m   1709\u001b[0m \u001b[0;34m\u001b[0m\u001b[0m\n",
            "\u001b[0;31mKeyboardInterrupt\u001b[0m: "
          ]
        }
      ]
    },
    {
      "cell_type": "markdown",
      "source": [
        "## Results of Random Forest Regression:\n",
        "\n",
        "As we can see above that the\n",
        "1. RMSE for `train_dataset = 3.653980451528581`\n",
        "2. RMSE for `val_dataset = 3.646048926699294`\n",
        "\n",
        "## Accuracy:\n",
        "1. Train dataset score:  `0.8573712904805945`\n",
        "2. Validation dataset score:  `0.8544858845554287`\n",
        "\n",
        "\n",
        "The above accuracy and RMSE is much better than the baseline model as well as the Ridge Regression Model that we created.\n",
        "\n",
        "\n"
      ],
      "metadata": {
        "id": "gkZig-eCWC61"
      }
    },
    {
      "cell_type": "code",
      "source": [],
      "metadata": {
        "id": "ed_xuv50R3p3"
      },
      "execution_count": null,
      "outputs": []
    }
  ]
}