{
  "nbformat": 4,
  "nbformat_minor": 0,
  "metadata": {
    "colab": {
      "provenance": [],
      "gpuType": "T4",
      "authorship_tag": "ABX9TyNpFNHetG5ZZgp+0KZybe3g",
      "include_colab_link": true
    },
    "kernelspec": {
      "name": "python3",
      "display_name": "Python 3"
    },
    "language_info": {
      "name": "python"
    },
    "accelerator": "GPU"
  },
  "cells": [
    {
      "cell_type": "markdown",
      "metadata": {
        "id": "view-in-github",
        "colab_type": "text"
      },
      "source": [
        "<a href=\"https://colab.research.google.com/github/yugal82/Machine-Learning/blob/master/Projects/NYC_Taxi_fare_prediction.ipynb\" target=\"_parent\"><img src=\"https://colab.research.google.com/assets/colab-badge.svg\" alt=\"Open In Colab\"/></a>"
      ]
    },
    {
      "cell_type": "code",
      "source": [
        "!pip install opendatasets"
      ],
      "metadata": {
        "colab": {
          "base_uri": "https://localhost:8080/"
        },
        "id": "_Hth5pnUKfTB",
        "outputId": "4afe2579-d61b-4de7-cde0-b8977c9a25bc"
      },
      "execution_count": 1,
      "outputs": [
        {
          "output_type": "stream",
          "name": "stdout",
          "text": [
            "Collecting opendatasets\n",
            "  Downloading opendatasets-0.1.22-py3-none-any.whl (15 kB)\n",
            "Requirement already satisfied: tqdm in /usr/local/lib/python3.10/dist-packages (from opendatasets) (4.66.2)\n",
            "Requirement already satisfied: kaggle in /usr/local/lib/python3.10/dist-packages (from opendatasets) (1.5.16)\n",
            "Requirement already satisfied: click in /usr/local/lib/python3.10/dist-packages (from opendatasets) (8.1.7)\n",
            "Requirement already satisfied: six>=1.10 in /usr/local/lib/python3.10/dist-packages (from kaggle->opendatasets) (1.16.0)\n",
            "Requirement already satisfied: certifi in /usr/local/lib/python3.10/dist-packages (from kaggle->opendatasets) (2024.2.2)\n",
            "Requirement already satisfied: python-dateutil in /usr/local/lib/python3.10/dist-packages (from kaggle->opendatasets) (2.8.2)\n",
            "Requirement already satisfied: requests in /usr/local/lib/python3.10/dist-packages (from kaggle->opendatasets) (2.31.0)\n",
            "Requirement already satisfied: python-slugify in /usr/local/lib/python3.10/dist-packages (from kaggle->opendatasets) (8.0.4)\n",
            "Requirement already satisfied: urllib3 in /usr/local/lib/python3.10/dist-packages (from kaggle->opendatasets) (2.0.7)\n",
            "Requirement already satisfied: bleach in /usr/local/lib/python3.10/dist-packages (from kaggle->opendatasets) (6.1.0)\n",
            "Requirement already satisfied: webencodings in /usr/local/lib/python3.10/dist-packages (from bleach->kaggle->opendatasets) (0.5.1)\n",
            "Requirement already satisfied: text-unidecode>=1.3 in /usr/local/lib/python3.10/dist-packages (from python-slugify->kaggle->opendatasets) (1.3)\n",
            "Requirement already satisfied: charset-normalizer<4,>=2 in /usr/local/lib/python3.10/dist-packages (from requests->kaggle->opendatasets) (3.3.2)\n",
            "Requirement already satisfied: idna<4,>=2.5 in /usr/local/lib/python3.10/dist-packages (from requests->kaggle->opendatasets) (3.6)\n",
            "Installing collected packages: opendatasets\n",
            "Successfully installed opendatasets-0.1.22\n"
          ]
        }
      ]
    },
    {
      "cell_type": "code",
      "execution_count": 2,
      "metadata": {
        "id": "ri8Gv2FqJ6_m"
      },
      "outputs": [],
      "source": [
        "import opendatasets  as od"
      ]
    },
    {
      "cell_type": "code",
      "source": [
        "dataset_url = 'https://www.kaggle.com/c/new-york-city-taxi-fare-prediction/'\n",
        "od.download(dataset_url)"
      ],
      "metadata": {
        "colab": {
          "base_uri": "https://localhost:8080/"
        },
        "id": "9KgB-mDkLDfA",
        "outputId": "5fad061d-dbb7-48bb-a02b-da4e8d0bd8a6"
      },
      "execution_count": 3,
      "outputs": [
        {
          "output_type": "stream",
          "name": "stdout",
          "text": [
            "Please provide your Kaggle credentials to download this dataset. Learn more: http://bit.ly/kaggle-creds\n",
            "Your Kaggle username: yugalkhanter\n",
            "Your Kaggle Key: ··········\n",
            "Downloading new-york-city-taxi-fare-prediction.zip to ./new-york-city-taxi-fare-prediction\n"
          ]
        },
        {
          "output_type": "stream",
          "name": "stderr",
          "text": [
            "100%|██████████| 1.56G/1.56G [00:21<00:00, 77.0MB/s]\n"
          ]
        },
        {
          "output_type": "stream",
          "name": "stdout",
          "text": [
            "\n",
            "Extracting archive ./new-york-city-taxi-fare-prediction/new-york-city-taxi-fare-prediction.zip to ./new-york-city-taxi-fare-prediction\n"
          ]
        }
      ]
    },
    {
      "cell_type": "code",
      "source": [
        "import pandas as pd\n",
        "import numpy as np\n",
        "import random"
      ],
      "metadata": {
        "id": "TDmv-HPxL6cP"
      },
      "execution_count": 4,
      "outputs": []
    },
    {
      "cell_type": "code",
      "source": [
        "selected_cols = \"fare_amount,pickup_datetime,pickup_latitude,pickup_longitude,dropoff_longitude,dropoff_latitude,passenger_count\".split(\",\")\n",
        "selected_cols"
      ],
      "metadata": {
        "colab": {
          "base_uri": "https://localhost:8080/"
        },
        "id": "V9WqEoMwM7ov",
        "outputId": "e6bc7238-80a2-4df9-bbb8-4fc7cbd78e43"
      },
      "execution_count": 5,
      "outputs": [
        {
          "output_type": "execute_result",
          "data": {
            "text/plain": [
              "['fare_amount',\n",
              " 'pickup_datetime',\n",
              " 'pickup_latitude',\n",
              " 'pickup_longitude',\n",
              " 'dropoff_longitude',\n",
              " 'dropoff_latitude',\n",
              " 'passenger_count']"
            ]
          },
          "metadata": {},
          "execution_count": 5
        }
      ]
    },
    {
      "cell_type": "code",
      "source": [
        "dtypes = {\n",
        "    'fare_amount': 'float32',\n",
        "    'pickup_latitude': 'float32',\n",
        "    'pickup_longitude': 'float32',\n",
        "    'dropoff_longitude': 'float32',\n",
        "    'dropoff_latitude': 'float32',\n",
        "    'passenger_count': 'uint8'\n",
        "}"
      ],
      "metadata": {
        "id": "9fbueskPtjwL"
      },
      "execution_count": 6,
      "outputs": []
    },
    {
      "cell_type": "markdown",
      "source": [
        "### Loading Training Set\n",
        "\n",
        "Loading the entire dataset into Pandas is going to be slow, so we can use the following optimizations:\n",
        "\n",
        "- Ignore the `key` column\n",
        "- Parse pickup datetime while loading data\n",
        "- Specify data types for other columns\n",
        "   - `float32` for geo coordinates\n",
        "   - `float32` for fare amount\n",
        "   - `uint8` for passenger count\n",
        "- Work with a 1% sample of the data (~500k rows)\n",
        "\n",
        "We can apply these optimizations while using [`pd.read_csv`](https://pandas.pydata.org/pandas-docs/stable/reference/api/pandas.read_csv.html)"
      ],
      "metadata": {
        "id": "M6VF3x00xm0V"
      }
    },
    {
      "cell_type": "code",
      "source": [
        "random.seed(8)\n",
        "def skip_row(row_idx):\n",
        "  if row_idx == 0:\n",
        "    return False\n",
        "  return random.random() > 0.01\n",
        "\n",
        "train_ds = pd.read_csv(\n",
        "    \"/content/new-york-city-taxi-fare-prediction/train.csv\",\n",
        "    usecols=selected_cols,\n",
        "    parse_dates=['pickup_datetime'],\n",
        "    dtype=dtypes,\n",
        "    skiprows=skip_row\n",
        ")"
      ],
      "metadata": {
        "id": "yVzCsrFkNCge"
      },
      "execution_count": 7,
      "outputs": []
    },
    {
      "cell_type": "markdown",
      "source": [
        "**Load Test Set**\n",
        "\n",
        "For the test set, we'll simply provide the data types."
      ],
      "metadata": {
        "id": "aPOu_AzLxzc4"
      }
    },
    {
      "cell_type": "code",
      "source": [
        "test_df = pd.read_csv(\"/content/new-york-city-taxi-fare-prediction/test.csv\", dtype=dtypes, parse_dates=[\"pickup_datetime\"])"
      ],
      "metadata": {
        "id": "Vs3JX6Cctdt4"
      },
      "execution_count": 81,
      "outputs": []
    },
    {
      "cell_type": "markdown",
      "source": [
        "## Explore the Dataset\n",
        "\n",
        "- Basic info about training set\n",
        "- Basic info about test set\n",
        "- Exploratory data analysis & visualization"
      ],
      "metadata": {
        "id": "4W0S_qYax8af"
      }
    },
    {
      "cell_type": "code",
      "source": [
        "# train_ds.head(10)\n",
        "print(\"Describe: \\n\", train_ds.describe())\n",
        "print(\"Info: \\n\", train_ds.info())\n",
        "print(\"Null values: \\n\", train_ds.isna().sum())"
      ],
      "metadata": {
        "colab": {
          "base_uri": "https://localhost:8080/"
        },
        "id": "4OMqzyGAQDff",
        "outputId": "0aa70a2c-b0dd-4c88-fae7-26d2dbf85f34"
      },
      "execution_count": 46,
      "outputs": [
        {
          "output_type": "stream",
          "name": "stdout",
          "text": [
            "Describe: \n",
            "          fare_amount  pickup_longitude  pickup_latitude  dropoff_longitude  \\\n",
            "count  553708.000000     553708.000000    553708.000000      553699.000000   \n",
            "mean       11.343386        -72.525970        39.912071         -72.497482   \n",
            "std         9.744153         13.166656         7.654707          11.747736   \n",
            "min       -52.000000      -3383.284912     -2555.488037       -1301.503662   \n",
            "25%         6.000000        -73.992088        40.734921         -73.991394   \n",
            "50%         8.500000        -73.981827        40.752670         -73.980141   \n",
            "75%        12.500000        -73.967079        40.767113         -73.963661   \n",
            "max       450.000000        728.531738       430.516663        2497.105713   \n",
            "\n",
            "       dropoff_latitude  passenger_count  pickup_datetime_year  \\\n",
            "count     553699.000000    553708.000000         553708.000000   \n",
            "mean          39.920895         1.686246           2011.738162   \n",
            "std            8.819188         1.310580              1.858516   \n",
            "min        -2475.718506         0.000000           2009.000000   \n",
            "25%           40.734089         1.000000           2010.000000   \n",
            "50%           40.753220         1.000000           2012.000000   \n",
            "75%           40.768131         2.000000           2013.000000   \n",
            "max         2589.499023         8.000000           2015.000000   \n",
            "\n",
            "       pickup_datetime_month  pickup_datetimeday  pickup_datetime_weekday  \\\n",
            "count          553708.000000       553708.000000            553708.000000   \n",
            "mean                6.264128           15.715352                 3.038183   \n",
            "std                 3.437625            8.685581                 1.948001   \n",
            "min                 1.000000            1.000000                 0.000000   \n",
            "25%                 3.000000            8.000000                 1.000000   \n",
            "50%                 6.000000           16.000000                 3.000000   \n",
            "75%                 9.000000           23.000000                 5.000000   \n",
            "max                12.000000           31.000000                 6.000000   \n",
            "\n",
            "       pickup_datetime_hour  \n",
            "count         553708.000000  \n",
            "mean              13.517222  \n",
            "std                6.507632  \n",
            "min                0.000000  \n",
            "25%                9.000000  \n",
            "50%               14.000000  \n",
            "75%               19.000000  \n",
            "max               23.000000  \n",
            "<class 'pandas.core.frame.DataFrame'>\n",
            "RangeIndex: 553708 entries, 0 to 553707\n",
            "Data columns (total 12 columns):\n",
            " #   Column                   Non-Null Count   Dtype              \n",
            "---  ------                   --------------   -----              \n",
            " 0   fare_amount              553708 non-null  float32            \n",
            " 1   pickup_datetime          553708 non-null  datetime64[ns, UTC]\n",
            " 2   pickup_longitude         553708 non-null  float32            \n",
            " 3   pickup_latitude          553708 non-null  float32            \n",
            " 4   dropoff_longitude        553699 non-null  float32            \n",
            " 5   dropoff_latitude         553699 non-null  float32            \n",
            " 6   passenger_count          553708 non-null  uint8              \n",
            " 7   pickup_datetime_year     553708 non-null  int64              \n",
            " 8   pickup_datetime_month    553708 non-null  int64              \n",
            " 9   pickup_datetimeday       553708 non-null  int64              \n",
            " 10  pickup_datetime_weekday  553708 non-null  int64              \n",
            " 11  pickup_datetime_hour     553708 non-null  int64              \n",
            "dtypes: datetime64[ns, UTC](1), float32(5), int64(5), uint8(1)\n",
            "memory usage: 36.4 MB\n",
            "Info: \n",
            " None\n",
            "Null values: \n",
            " fare_amount                0\n",
            "pickup_datetime            0\n",
            "pickup_longitude           0\n",
            "pickup_latitude            0\n",
            "dropoff_longitude          9\n",
            "dropoff_latitude           9\n",
            "passenger_count            0\n",
            "pickup_datetime_year       0\n",
            "pickup_datetime_month      0\n",
            "pickup_datetimeday         0\n",
            "pickup_datetime_weekday    0\n",
            "pickup_datetime_hour       0\n",
            "dtype: int64\n"
          ]
        }
      ]
    },
    {
      "cell_type": "code",
      "source": [
        "# test_ds.head(10)\n",
        "print(\"Describe: \\n\", test_df.describe())\n",
        "print(\"Info: \\n\", test_df.info())\n",
        "print(\"Null values: \\n\", test_df.isna().sum())"
      ],
      "metadata": {
        "colab": {
          "base_uri": "https://localhost:8080/"
        },
        "id": "gN62zevHsa5t",
        "outputId": "d65e6738-9d72-4044-9366-faa4ff715ad4"
      },
      "execution_count": 47,
      "outputs": [
        {
          "output_type": "stream",
          "name": "stdout",
          "text": [
            "Describe: \n",
            "        pickup_longitude  pickup_latitude  dropoff_longitude  dropoff_latitude  \\\n",
            "count       9914.000000      9914.000000        9914.000000       9914.000000   \n",
            "mean         -73.974716        40.751041         -73.973656         40.751740   \n",
            "std            0.042774         0.033541           0.039072          0.035435   \n",
            "min          -74.252190        40.573143         -74.263245         40.568974   \n",
            "25%          -73.992500        40.736125         -73.991249         40.735253   \n",
            "50%          -73.982327        40.753052         -73.980015         40.754065   \n",
            "75%          -73.968012        40.767113         -73.964062         40.768757   \n",
            "max          -72.986534        41.709557         -72.990967         41.696682   \n",
            "\n",
            "       passenger_count  \n",
            "count      9914.000000  \n",
            "mean          1.671273  \n",
            "std           1.278747  \n",
            "min           1.000000  \n",
            "25%           1.000000  \n",
            "50%           1.000000  \n",
            "75%           2.000000  \n",
            "max           6.000000  \n",
            "<class 'pandas.core.frame.DataFrame'>\n",
            "RangeIndex: 9914 entries, 0 to 9913\n",
            "Data columns (total 7 columns):\n",
            " #   Column             Non-Null Count  Dtype  \n",
            "---  ------             --------------  -----  \n",
            " 0   key                9914 non-null   object \n",
            " 1   pickup_datetime    9914 non-null   object \n",
            " 2   pickup_longitude   9914 non-null   float32\n",
            " 3   pickup_latitude    9914 non-null   float32\n",
            " 4   dropoff_longitude  9914 non-null   float32\n",
            " 5   dropoff_latitude   9914 non-null   float32\n",
            " 6   passenger_count    9914 non-null   uint8  \n",
            "dtypes: float32(4), object(2), uint8(1)\n",
            "memory usage: 319.6+ KB\n",
            "Info: \n",
            " None\n",
            "Null values: \n",
            " key                  0\n",
            "pickup_datetime      0\n",
            "pickup_longitude     0\n",
            "pickup_latitude      0\n",
            "dropoff_longitude    0\n",
            "dropoff_latitude     0\n",
            "passenger_count      0\n",
            "dtype: int64\n"
          ]
        }
      ]
    },
    {
      "cell_type": "markdown",
      "source": [
        "## Prepare Dataset for Training\n",
        "\n",
        "- Split Training & Validation Set\n",
        "- Fill/Remove Missing Values\n",
        "- Extract Inputs & Outputs\n",
        "   - Training\n",
        "   - Validation\n",
        "   - Test"
      ],
      "metadata": {
        "id": "tuABTsbWyGEf"
      }
    },
    {
      "cell_type": "code",
      "source": [
        "from sklearn.model_selection import train_test_split"
      ],
      "metadata": {
        "id": "qE14okITu2YU"
      },
      "execution_count": 48,
      "outputs": []
    },
    {
      "cell_type": "markdown",
      "source": [
        "### Split Training & Validation Set\n",
        "\n",
        "We'll set aside 20% of the training data as the validation set, to evaluate the models we train on previously unseen data.\n",
        "\n",
        "Since the test set and training set have the same date ranges, we can pick a random 20% fraction."
      ],
      "metadata": {
        "id": "6lr13E81ybf9"
      }
    },
    {
      "cell_type": "code",
      "source": [
        "train_df, val_df = train_test_split(train_ds, test_size=0.2, random_state=8)"
      ],
      "metadata": {
        "id": "LdMUvHHzyO1z"
      },
      "execution_count": 49,
      "outputs": []
    },
    {
      "cell_type": "code",
      "source": [
        "len(train_df), len(val_df)"
      ],
      "metadata": {
        "colab": {
          "base_uri": "https://localhost:8080/"
        },
        "id": "VV4-aMfGy4vC",
        "outputId": "7d7a0b8f-ed23-4b7d-f113-c5b10e1008e0"
      },
      "execution_count": 50,
      "outputs": [
        {
          "output_type": "execute_result",
          "data": {
            "text/plain": [
              "(442966, 110742)"
            ]
          },
          "metadata": {},
          "execution_count": 50
        }
      ]
    },
    {
      "cell_type": "code",
      "source": [
        "train_df = train_df.dropna()\n",
        "val_df = val_df.dropna()"
      ],
      "metadata": {
        "id": "giOrknliy8hd"
      },
      "execution_count": 51,
      "outputs": []
    },
    {
      "cell_type": "code",
      "source": [
        "train_df.columns"
      ],
      "metadata": {
        "colab": {
          "base_uri": "https://localhost:8080/"
        },
        "id": "Z1apdHkezFzG",
        "outputId": "c4c4fce0-043e-4420-b2fa-46e64f83aec8"
      },
      "execution_count": 52,
      "outputs": [
        {
          "output_type": "execute_result",
          "data": {
            "text/plain": [
              "Index(['fare_amount', 'pickup_datetime', 'pickup_longitude', 'pickup_latitude',\n",
              "       'dropoff_longitude', 'dropoff_latitude', 'passenger_count',\n",
              "       'pickup_datetime_year', 'pickup_datetime_month', 'pickup_datetimeday',\n",
              "       'pickup_datetime_weekday', 'pickup_datetime_hour'],\n",
              "      dtype='object')"
            ]
          },
          "metadata": {},
          "execution_count": 52
        }
      ]
    },
    {
      "cell_type": "code",
      "source": [
        "input_features = ['pickup_longitude', 'pickup_latitude', 'dropoff_longitude', 'dropoff_latitude', 'passenger_count']\n",
        "target_label = \"fare_amount\""
      ],
      "metadata": {
        "id": "BDs18_cEzLKr"
      },
      "execution_count": 53,
      "outputs": []
    },
    {
      "cell_type": "code",
      "source": [
        "train_ds_input = train_df[input_features]\n",
        "train_ds_target = train_df[target_label]"
      ],
      "metadata": {
        "id": "7Bqyx8BIzZne"
      },
      "execution_count": 54,
      "outputs": []
    },
    {
      "cell_type": "code",
      "source": [
        "print(train_ds_input)\n",
        "print(train_ds_target)"
      ],
      "metadata": {
        "colab": {
          "base_uri": "https://localhost:8080/"
        },
        "id": "B5yELkMrznFf",
        "outputId": "d31da58d-c47f-4edd-f12a-714d7e75593b"
      },
      "execution_count": 55,
      "outputs": [
        {
          "output_type": "stream",
          "name": "stdout",
          "text": [
            "        pickup_longitude  pickup_latitude  dropoff_longitude  \\\n",
            "327779        -74.011520        40.708054         -73.993057   \n",
            "509461        -73.974068        40.753933         -73.978043   \n",
            "456430        -73.990227        40.751686         -73.986275   \n",
            "284224        -73.990784        40.755768         -73.973396   \n",
            "198663        -73.991020        40.742054         -73.998093   \n",
            "...                  ...              ...                ...   \n",
            "403592        -73.955635        40.779488         -73.951050   \n",
            "324570        -74.007660        40.709560         -73.999107   \n",
            "231557        -73.979118        40.787209         -73.960762   \n",
            "149489        -73.989250        40.731621         -73.982498   \n",
            "550228        -73.972328        40.790688         -73.978043   \n",
            "\n",
            "        dropoff_latitude  passenger_count  \n",
            "327779         40.742462                1  \n",
            "509461         40.747253                5  \n",
            "456430         40.744461                6  \n",
            "284224         40.763702                1  \n",
            "198663         40.719528                1  \n",
            "...                  ...              ...  \n",
            "403592         40.775124                1  \n",
            "324570         40.761269                1  \n",
            "231557         40.812099                5  \n",
            "149489         40.771400                3  \n",
            "550228         40.786625                3  \n",
            "\n",
            "[442959 rows x 5 columns]\n",
            "327779     8.9\n",
            "509461     3.3\n",
            "456430     6.0\n",
            "284224     7.0\n",
            "198663    10.5\n",
            "          ... \n",
            "403592     4.9\n",
            "324570     6.9\n",
            "231557     8.1\n",
            "149489    17.5\n",
            "550228     4.0\n",
            "Name: fare_amount, Length: 442959, dtype: float32\n"
          ]
        }
      ]
    },
    {
      "cell_type": "code",
      "source": [
        "val_ds_input = val_df[input_features]\n",
        "val_ds_target = val_df[target_label]"
      ],
      "metadata": {
        "id": "J5-10-FCzosz"
      },
      "execution_count": 56,
      "outputs": []
    },
    {
      "cell_type": "code",
      "source": [
        "print(val_ds_input)\n",
        "print(val_ds_target)"
      ],
      "metadata": {
        "colab": {
          "base_uri": "https://localhost:8080/"
        },
        "id": "qOAvd5vRzt8Z",
        "outputId": "c4c3d211-656a-4bfc-dda3-86062503bc44"
      },
      "execution_count": 57,
      "outputs": [
        {
          "output_type": "stream",
          "name": "stdout",
          "text": [
            "        pickup_longitude  pickup_latitude  dropoff_longitude  \\\n",
            "16227         -73.961151        40.768848         -73.966934   \n",
            "449789        -73.955368        40.782791         -73.975891   \n",
            "269481        -73.863579        40.770000         -74.000244   \n",
            "141054        -73.997261        40.724819         -73.972557   \n",
            "376590        -73.999847        40.726799         -73.981049   \n",
            "...                  ...              ...                ...   \n",
            "512280        -73.980789        40.779812         -73.989197   \n",
            "123562        -73.982407        40.764572         -73.984886   \n",
            "452177          0.000000         0.000000           0.000000   \n",
            "414910        -73.995934        40.726151         -73.941605   \n",
            "46335         -73.961617        40.719326         -74.000954   \n",
            "\n",
            "        dropoff_latitude  passenger_count  \n",
            "16227          40.767139                1  \n",
            "449789         40.754559                1  \n",
            "269481         40.714333                1  \n",
            "141054         40.753582                1  \n",
            "376590         40.752083                2  \n",
            "...                  ...              ...  \n",
            "512280         40.774559                2  \n",
            "123562         40.760139                1  \n",
            "452177          0.000000                2  \n",
            "414910         40.725254                1  \n",
            "46335          40.676239                1  \n",
            "\n",
            "[110740 rows x 5 columns]\n",
            "16227      4.100000\n",
            "449789    11.000000\n",
            "269481    35.049999\n",
            "141054    14.000000\n",
            "376590     7.700000\n",
            "            ...    \n",
            "512280     6.500000\n",
            "123562     4.000000\n",
            "452177    10.500000\n",
            "414910    18.000000\n",
            "46335     16.500000\n",
            "Name: fare_amount, Length: 110740, dtype: float32\n"
          ]
        }
      ]
    },
    {
      "cell_type": "code",
      "source": [
        "test_ds = test_df[input_features]"
      ],
      "metadata": {
        "id": "rzYX41hG0BXQ"
      },
      "execution_count": 58,
      "outputs": []
    },
    {
      "cell_type": "markdown",
      "source": [
        "## Train Hardcoded & Baseline Models\n",
        "\n",
        "- Hardcoded model: always predict average fare\n",
        "- Baseline model: Linear regression\n",
        "\n",
        "For evaluation the dataset uses RMSE error:\n",
        "https://www.kaggle.com/c/new-york-city-taxi-fare-prediction/overview/evaluation"
      ],
      "metadata": {
        "id": "TNR8UMho2A_K"
      }
    },
    {
      "cell_type": "code",
      "source": [
        "class MeanRegressor:\n",
        "  def fit(self, inputs, targets):\n",
        "    self.mean = targets.mean()\n",
        "\n",
        "  def predict(self, inputs):\n",
        "    return np.full(inputs.shape[0], self.mean)"
      ],
      "metadata": {
        "id": "XdVjUo_Y1sgB"
      },
      "execution_count": 59,
      "outputs": []
    },
    {
      "cell_type": "code",
      "source": [
        "mean_model = MeanRegressor()"
      ],
      "metadata": {
        "id": "ycL18dPT2gkL"
      },
      "execution_count": 60,
      "outputs": []
    },
    {
      "cell_type": "code",
      "source": [
        "mean_model.fit(train_ds_input, train_ds_target)"
      ],
      "metadata": {
        "id": "tn_Uj1Sa2kAb"
      },
      "execution_count": 61,
      "outputs": []
    },
    {
      "cell_type": "code",
      "source": [
        "mean_model.mean"
      ],
      "metadata": {
        "colab": {
          "base_uri": "https://localhost:8080/"
        },
        "id": "5yO56pnM2sJX",
        "outputId": "8b9decf0-40a8-4651-cf3b-d606d689f2c4"
      },
      "execution_count": 62,
      "outputs": [
        {
          "output_type": "execute_result",
          "data": {
            "text/plain": [
              "11.346553"
            ]
          },
          "metadata": {},
          "execution_count": 62
        }
      ]
    },
    {
      "cell_type": "code",
      "source": [
        "train_preds = mean_model.predict(train_ds_input)\n",
        "train_preds"
      ],
      "metadata": {
        "colab": {
          "base_uri": "https://localhost:8080/"
        },
        "id": "NWRdEID_2ycC",
        "outputId": "f312bcc3-93df-4967-dba1-25154b99a88e"
      },
      "execution_count": 63,
      "outputs": [
        {
          "output_type": "execute_result",
          "data": {
            "text/plain": [
              "array([11.346553, 11.346553, 11.346553, ..., 11.346553, 11.346553,\n",
              "       11.346553], dtype=float32)"
            ]
          },
          "metadata": {},
          "execution_count": 63
        }
      ]
    },
    {
      "cell_type": "code",
      "source": [
        "train_ds_target"
      ],
      "metadata": {
        "colab": {
          "base_uri": "https://localhost:8080/"
        },
        "id": "-tTwusK03w8h",
        "outputId": "2f350470-38b0-42cb-9b65-ebd5b069f6b6"
      },
      "execution_count": 64,
      "outputs": [
        {
          "output_type": "execute_result",
          "data": {
            "text/plain": [
              "327779     8.9\n",
              "509461     3.3\n",
              "456430     6.0\n",
              "284224     7.0\n",
              "198663    10.5\n",
              "          ... \n",
              "403592     4.9\n",
              "324570     6.9\n",
              "231557     8.1\n",
              "149489    17.5\n",
              "550228     4.0\n",
              "Name: fare_amount, Length: 442959, dtype: float32"
            ]
          },
          "metadata": {},
          "execution_count": 64
        }
      ]
    },
    {
      "cell_type": "code",
      "source": [
        "val_preds = mean_model.predict(val_ds_input)\n",
        "val_preds"
      ],
      "metadata": {
        "colab": {
          "base_uri": "https://localhost:8080/"
        },
        "id": "yocMQ9bV270k",
        "outputId": "33957615-e73a-4e61-cc39-c2b097067443"
      },
      "execution_count": 65,
      "outputs": [
        {
          "output_type": "execute_result",
          "data": {
            "text/plain": [
              "array([11.346553, 11.346553, 11.346553, ..., 11.346553, 11.346553,\n",
              "       11.346553], dtype=float32)"
            ]
          },
          "metadata": {},
          "execution_count": 65
        }
      ]
    },
    {
      "cell_type": "markdown",
      "source": [
        "## Error between predicted and actual\n",
        "\n",
        "Above, the predicted mean by the `MeanRegressor` model is 11.364 for every record in the training dataset.\n",
        "\n",
        "And, the actual target is 8.9, 3.3, 6.0, etc\n",
        "\n",
        "1. The error for first record is 11.364 - 8.9 = 2.464\n",
        "2. The error for second record is 11.364 - 3.3 = 8.064\n",
        "3. The error for third record is 11.364 - 6.0 = 5.364\n",
        "\n",
        "and so on for each record.\n",
        "\n",
        "We make use of root mean squared error to see how badly our model performs."
      ],
      "metadata": {
        "id": "P36pjRjP5E1X"
      }
    },
    {
      "cell_type": "code",
      "source": [
        "from sklearn.metrics import mean_squared_error"
      ],
      "metadata": {
        "id": "oJgGgRso3HG7"
      },
      "execution_count": 66,
      "outputs": []
    },
    {
      "cell_type": "code",
      "source": [
        "def rmse(actual, predictions):\n",
        "  return mean_squared_error(actual, predictions, squared=False)"
      ],
      "metadata": {
        "id": "D3qn2pN25iXw"
      },
      "execution_count": 67,
      "outputs": []
    },
    {
      "cell_type": "code",
      "source": [
        "train_rmse = rmse(train_ds_target, train_preds)\n",
        "train_rmse"
      ],
      "metadata": {
        "colab": {
          "base_uri": "https://localhost:8080/"
        },
        "id": "ooz_zoCp5-O0",
        "outputId": "07d97be9-37b1-4bf5-b3e0-192db7142224"
      },
      "execution_count": 68,
      "outputs": [
        {
          "output_type": "execute_result",
          "data": {
            "text/plain": [
              "9.771893"
            ]
          },
          "metadata": {},
          "execution_count": 68
        }
      ]
    },
    {
      "cell_type": "code",
      "source": [
        "val_rmse = rmse(val_ds_target, val_preds)\n",
        "val_rmse"
      ],
      "metadata": {
        "colab": {
          "base_uri": "https://localhost:8080/"
        },
        "id": "gi38Alz161Hc",
        "outputId": "8fbbb4bb-1149-4644-edf0-a4b671ebd46c"
      },
      "execution_count": 69,
      "outputs": [
        {
          "output_type": "execute_result",
          "data": {
            "text/plain": [
              "9.632431"
            ]
          },
          "metadata": {},
          "execution_count": 69
        }
      ]
    },
    {
      "cell_type": "markdown",
      "source": [
        "## RMSE = 9.771893\n",
        "\n",
        "That means that, on average, for each record, the prediction of the model of fare amount is approx. 9.7 dollars off the actual fare amount, which is quite bad."
      ],
      "metadata": {
        "id": "7RzJBNd66KOe"
      }
    },
    {
      "cell_type": "markdown",
      "source": [
        "### Train & Evaluate Baseline Model\n",
        "\n",
        "We'll traina linear regression model as our baseline, which tries to express the target as a weighted sum of the inputs."
      ],
      "metadata": {
        "id": "ph7YOBKC8h9l"
      }
    },
    {
      "cell_type": "code",
      "source": [
        "from sklearn.linear_model import LinearRegression\n",
        "linreg_model = LinearRegression()\n",
        "linreg_model.fit(train_ds_input, train_ds_target)\n",
        "train_preds = linreg_model.predict(train_ds_input)\n",
        "train_preds"
      ],
      "metadata": {
        "colab": {
          "base_uri": "https://localhost:8080/"
        },
        "id": "AnWal4GV6GMU",
        "outputId": "6bf81177-290f-48d6-add6-4de786e92d17"
      },
      "execution_count": 70,
      "outputs": [
        {
          "output_type": "execute_result",
          "data": {
            "text/plain": [
              "array([11.246101 , 11.730324 , 11.8510895, ..., 11.73045  , 11.488152 ,\n",
              "       11.488618 ], dtype=float32)"
            ]
          },
          "metadata": {},
          "execution_count": 70
        }
      ]
    },
    {
      "cell_type": "code",
      "source": [
        "train_ds_target"
      ],
      "metadata": {
        "colab": {
          "base_uri": "https://localhost:8080/"
        },
        "id": "PRyGAJMF9wD-",
        "outputId": "3b620f9d-07bc-432a-c875-c5ed2851e938"
      },
      "execution_count": 71,
      "outputs": [
        {
          "output_type": "execute_result",
          "data": {
            "text/plain": [
              "327779     8.9\n",
              "509461     3.3\n",
              "456430     6.0\n",
              "284224     7.0\n",
              "198663    10.5\n",
              "          ... \n",
              "403592     4.9\n",
              "324570     6.9\n",
              "231557     8.1\n",
              "149489    17.5\n",
              "550228     4.0\n",
              "Name: fare_amount, Length: 442959, dtype: float32"
            ]
          },
          "metadata": {},
          "execution_count": 71
        }
      ]
    },
    {
      "cell_type": "code",
      "source": [
        "test_preds = linreg_model.predict(test_ds)\n",
        "test_preds"
      ],
      "metadata": {
        "colab": {
          "base_uri": "https://localhost:8080/"
        },
        "id": "-sdKLk4h_eCv",
        "outputId": "1d6f7ddd-8161-4d69-e7ec-9a5d6307ad4f"
      },
      "execution_count": 72,
      "outputs": [
        {
          "output_type": "execute_result",
          "data": {
            "text/plain": [
              "array([11.246746 , 11.246227 , 11.246632 , ..., 11.8532095, 11.851213 ,\n",
              "       11.850919 ], dtype=float32)"
            ]
          },
          "metadata": {},
          "execution_count": 72
        }
      ]
    },
    {
      "cell_type": "markdown",
      "source": [
        "## 6. Feature Engineering\n",
        "\n",
        "\n",
        "- Extract parts of date\n",
        "- Remove outliers & invalid data\n",
        "- Add distance between pickup & drop\n",
        "- Add distance from landmarks\n",
        "\n",
        "Exercise: We're going to apply all of the above together, but you should observer the effect of adding each feature individually.\n",
        "\n",
        "\n",
        "### Extract Parts of Date\n",
        "\n",
        "- Year\n",
        "- Month\n",
        "- Day\n",
        "- Weekday\n",
        "- Hour\n"
      ],
      "metadata": {
        "id": "o9AZNP_2eltq"
      }
    },
    {
      "cell_type": "code",
      "source": [
        "def add_dateparts(ds, col):\n",
        "  ds[col+ '_year'] = ds[col].dt.year\n",
        "  ds[col+ '_month'] = ds[col].dt.month\n",
        "  ds[col+ 'day'] = ds[col].dt.day\n",
        "  ds[col+ '_weekday'] = ds[col].dt.weekday\n",
        "  ds[col+ '_hour'] = ds[col].dt.hour"
      ],
      "metadata": {
        "id": "deB5W7m9ACLc"
      },
      "execution_count": 73,
      "outputs": []
    },
    {
      "cell_type": "code",
      "source": [
        "add_dateparts(train_ds, \"pickup_datetime\")"
      ],
      "metadata": {
        "id": "uOUTOLsrhx0o"
      },
      "execution_count": 74,
      "outputs": []
    },
    {
      "cell_type": "code",
      "source": [
        "add_dateparts(val_df, \"pickup_datetime\")"
      ],
      "metadata": {
        "id": "FiD9GKOLicbD"
      },
      "execution_count": 75,
      "outputs": []
    },
    {
      "cell_type": "code",
      "source": [
        "add_dateparts(test_df, \"pickup_datetime\")"
      ],
      "metadata": {
        "id": "PBhjQbHWiujM"
      },
      "execution_count": 82,
      "outputs": []
    },
    {
      "cell_type": "markdown",
      "source": [
        "### Add Distance Between Pickup and Drop\n",
        "\n",
        "We can use the haversine distance:\n",
        "- https://en.wikipedia.org/wiki/Haversine_formula\n",
        "- https://stackoverflow.com/questions/29545704/fast-haversine-approximation-python-pandas"
      ],
      "metadata": {
        "id": "Sws2sK65nI2m"
      }
    },
    {
      "cell_type": "code",
      "source": [
        "import numpy as np\n",
        "\n",
        "def haversine_np(lon1, lat1, lon2, lat2):\n",
        "    \"\"\"\n",
        "    Calculate the great circle distance between two points\n",
        "    on the earth (specified in decimal degrees)\n",
        "\n",
        "    All args must be of equal length.\n",
        "\n",
        "    \"\"\"\n",
        "    lon1, lat1, lon2, lat2 = map(np.radians, [lon1, lat1, lon2, lat2])\n",
        "\n",
        "    dlon = lon2 - lon1\n",
        "    dlat = lat2 - lat1\n",
        "\n",
        "    a = np.sin(dlat/2.0)**2 + np.cos(lat1) * np.cos(lat2) * np.sin(dlon/2.0)**2\n",
        "\n",
        "    c = 2 * np.arcsin(np.sqrt(a))\n",
        "    km = 6367 * c\n",
        "    return km"
      ],
      "metadata": {
        "id": "0hS6LVW7nIbY"
      },
      "execution_count": 84,
      "outputs": []
    },
    {
      "cell_type": "code",
      "source": [
        "def add_trip_distance(ds):\n",
        "    ds['trip_distance'] = haversine_np(ds['pickup_longitude'], ds['pickup_latitude'], ds['dropoff_longitude'], ds['dropoff_latitude'])"
      ],
      "metadata": {
        "id": "iBJqq9C_lX73"
      },
      "execution_count": 85,
      "outputs": []
    },
    {
      "cell_type": "code",
      "source": [
        "add_trip_distance(train_ds)"
      ],
      "metadata": {
        "id": "OqUcWDBungno"
      },
      "execution_count": 86,
      "outputs": []
    },
    {
      "cell_type": "code",
      "source": [
        "add_trip_distance(val_df)"
      ],
      "metadata": {
        "id": "5W1lSeUNn35y"
      },
      "execution_count": 87,
      "outputs": []
    },
    {
      "cell_type": "code",
      "source": [
        "add_trip_distance(test_df)"
      ],
      "metadata": {
        "id": "A53asXlun8oI"
      },
      "execution_count": 88,
      "outputs": []
    },
    {
      "cell_type": "code",
      "source": [],
      "metadata": {
        "id": "D3P6mhadoCAT"
      },
      "execution_count": null,
      "outputs": []
    }
  ]
}